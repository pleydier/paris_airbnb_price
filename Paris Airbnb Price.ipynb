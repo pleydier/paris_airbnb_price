{
 "cells": [
  {
   "cell_type": "markdown",
   "metadata": {},
   "source": [
    "# Paris Airbnb Price\n",
    "How much should I rent my flat per night?\n",
    "\n",
    "In this project, we will use several Machine Learning models for predicting the night price of an appartment posted on Airbnb, depending on multiple variables.\n",
    "The dataset is available at http://insideairbnb.com/get-the-data.html under a Creative Commons CC0 1.0 Universal (CC0 1.0) \"Public Domain Dedication\" license."
   ]
  },
  {
   "cell_type": "markdown",
   "metadata": {},
   "source": [
    "Before starting our work, we should check that the two following components used for Deep Learning are installed when we are running this notebook for the first time on a server, and then reset the session."
   ]
  },
  {
   "cell_type": "code",
   "execution_count": null,
   "metadata": {},
   "outputs": [],
   "source": [
    "!pip3 install keras\n",
    "!pip install Tensorboard"
   ]
  },
  {
   "cell_type": "markdown",
   "metadata": {},
   "source": [
    "## 1. Data Preprocessing\n",
    "In this first part, we will explorate the data from Inside Airbnb."
   ]
  },
  {
   "cell_type": "markdown",
   "metadata": {},
   "source": [
    "The goals are to:\n",
    "- Import the dataset\n",
    "- Select and clean the more relevant features\n",
    "- Create variables ready to be exploited by our Machine Learning models "
   ]
  },
  {
   "cell_type": "markdown",
   "metadata": {},
   "source": [
    "### 1.1 Import the dataset within the Python kernel\n",
    "If the data file is not uncompressed yet, we have to uncompress it. The code below should not be run if the data has already been uncompressed. Furthermore, it supposes that the listing.csv.gz file from http://insideairbnb.com/get-the-data.html (Paris, France) is available on the 'data' folder."
   ]
  },
  {
   "cell_type": "code",
   "execution_count": null,
   "metadata": {},
   "outputs": [],
   "source": [
    "import gzip\n",
    "import shutil\n",
    "with gzip.open('data/listing.csv.gz', 'rb') as f_in:\n",
    "    with open('data/listing.csv', 'wb') as f_out:\n",
    "        shutil.copyfileobj(f_in, f_out)"
   ]
  },
  {
   "cell_type": "markdown",
   "metadata": {},
   "source": [
    "Now we can import the dataset directly from the .csv file and have a quick look at it."
   ]
  },
  {
   "cell_type": "code",
   "execution_count": 1,
   "metadata": {},
   "outputs": [
    {
     "name": "stdout",
     "output_type": "stream",
     "text": [
      "Index([u'id', u'listing_url', u'scrape_id', u'last_scraped', u'name',\n",
      "       u'summary', u'space', u'description', u'experiences_offered',\n",
      "       u'neighborhood_overview', u'notes', u'transit', u'access',\n",
      "       u'interaction', u'house_rules', u'thumbnail_url', u'medium_url',\n",
      "       u'picture_url', u'xl_picture_url', u'host_id', u'host_url',\n",
      "       u'host_name', u'host_since', u'host_location', u'host_about',\n",
      "       u'host_response_time', u'host_response_rate', u'host_acceptance_rate',\n",
      "       u'host_is_superhost', u'host_thumbnail_url', u'host_picture_url',\n",
      "       u'host_neighbourhood', u'host_listings_count',\n",
      "       u'host_total_listings_count', u'host_verifications',\n",
      "       u'host_has_profile_pic', u'host_identity_verified', u'street',\n",
      "       u'neighbourhood', u'neighbourhood_cleansed',\n",
      "       u'neighbourhood_group_cleansed', u'city', u'state', u'zipcode',\n",
      "       u'market', u'smart_location', u'country_code', u'country', u'latitude',\n",
      "       u'longitude', u'is_location_exact', u'property_type', u'room_type',\n",
      "       u'accommodates', u'bathrooms', u'bedrooms', u'beds', u'bed_type',\n",
      "       u'amenities', u'square_feet', u'price', u'weekly_price',\n",
      "       u'monthly_price', u'security_deposit', u'cleaning_fee',\n",
      "       u'guests_included', u'extra_people', u'minimum_nights',\n",
      "       u'maximum_nights', u'calendar_updated', u'has_availability',\n",
      "       u'availability_30', u'availability_60', u'availability_90',\n",
      "       u'availability_365', u'calendar_last_scraped', u'number_of_reviews',\n",
      "       u'first_review', u'last_review', u'review_scores_rating',\n",
      "       u'review_scores_accuracy', u'review_scores_cleanliness',\n",
      "       u'review_scores_checkin', u'review_scores_communication',\n",
      "       u'review_scores_location', u'review_scores_value', u'requires_license',\n",
      "       u'license', u'jurisdiction_names', u'instant_bookable',\n",
      "       u'is_business_travel_ready', u'cancellation_policy',\n",
      "       u'require_guest_profile_picture', u'require_guest_phone_verification',\n",
      "       u'calculated_host_listings_count', u'reviews_per_month'],\n",
      "      dtype='object')\n",
      "(59881, 96)\n"
     ]
    }
   ],
   "source": [
    "import pandas as pd\n",
    "dataset = pd.read_csv('data/listings.csv', low_memory=False)\n",
    "print(dataset.columns)\n",
    "print(dataset.shape)"
   ]
  },
  {
   "cell_type": "markdown",
   "metadata": {},
   "source": [
    "## 1.2 Select and clean the more relevant features"
   ]
  },
  {
   "cell_type": "markdown",
   "metadata": {},
   "source": [
    "We can see that there are 96 different variables."
   ]
  },
  {
   "cell_type": "markdown",
   "metadata": {},
   "source": [
    "We will keep only the relevant ones, for solving our problem: predicting the price per night of an Airbnb flat in Paris, France. This price per night will be composed of both the price and the cleaning fee, values which we will place in the last columns of the dataset."
   ]
  },
  {
   "cell_type": "markdown",
   "metadata": {},
   "source": [
    "*I selected these variables during continuous improvement of the machine learning models for their respective relevance, and the success of the models.*\n",
    "For example:\n",
    "- Some of these are directly related (neighbourhood and zipcode directly depends of latitude and longitude / global review score depends on the other review scores)\n",
    "- Square feet field is rarely fullfilled\n",
    "- Prices are treated as strings because they contain the '$' character.\n",
    "- When there is no review, the other review variables are considered 'Nan'.\n",
    "- Sometimes, the other review variables are 'NaN' even though there are reviews."
   ]
  },
  {
   "cell_type": "code",
   "execution_count": 2,
   "metadata": {},
   "outputs": [
    {
     "data": {
      "text/html": [
       "<div>\n",
       "<style scoped>\n",
       "    .dataframe tbody tr th:only-of-type {\n",
       "        vertical-align: middle;\n",
       "    }\n",
       "\n",
       "    .dataframe tbody tr th {\n",
       "        vertical-align: top;\n",
       "    }\n",
       "\n",
       "    .dataframe thead th {\n",
       "        text-align: right;\n",
       "    }\n",
       "</style>\n",
       "<table border=\"1\" class=\"dataframe\">\n",
       "  <thead>\n",
       "    <tr style=\"text-align: right;\">\n",
       "      <th></th>\n",
       "      <th>host_is_superhost</th>\n",
       "      <th>property_type</th>\n",
       "      <th>room_type</th>\n",
       "      <th>bed_type</th>\n",
       "      <th>latitude</th>\n",
       "      <th>longitude</th>\n",
       "      <th>accommodates</th>\n",
       "      <th>bathrooms</th>\n",
       "      <th>bedrooms</th>\n",
       "      <th>number_of_reviews</th>\n",
       "      <th>review_scores_accuracy</th>\n",
       "      <th>review_scores_cleanliness</th>\n",
       "      <th>review_scores_checkin</th>\n",
       "      <th>review_scores_communication</th>\n",
       "      <th>review_scores_location</th>\n",
       "      <th>review_scores_value</th>\n",
       "      <th>price</th>\n",
       "    </tr>\n",
       "  </thead>\n",
       "  <tbody>\n",
       "    <tr>\n",
       "      <th>0</th>\n",
       "      <td>f</td>\n",
       "      <td>Loft</td>\n",
       "      <td>Entire home/apt</td>\n",
       "      <td>Real Bed</td>\n",
       "      <td>48.869933</td>\n",
       "      <td>2.362511</td>\n",
       "      <td>4</td>\n",
       "      <td>2.0</td>\n",
       "      <td>2.0</td>\n",
       "      <td>0</td>\n",
       "      <td>NaN</td>\n",
       "      <td>NaN</td>\n",
       "      <td>NaN</td>\n",
       "      <td>NaN</td>\n",
       "      <td>NaN</td>\n",
       "      <td>NaN</td>\n",
       "      <td>165.0</td>\n",
       "    </tr>\n",
       "    <tr>\n",
       "      <th>1</th>\n",
       "      <td>f</td>\n",
       "      <td>Apartment</td>\n",
       "      <td>Entire home/apt</td>\n",
       "      <td>Real Bed</td>\n",
       "      <td>48.833494</td>\n",
       "      <td>2.318518</td>\n",
       "      <td>2</td>\n",
       "      <td>1.0</td>\n",
       "      <td>1.0</td>\n",
       "      <td>7</td>\n",
       "      <td>10.0</td>\n",
       "      <td>10.0</td>\n",
       "      <td>10.0</td>\n",
       "      <td>10.0</td>\n",
       "      <td>10.0</td>\n",
       "      <td>10.0</td>\n",
       "      <td>125.0</td>\n",
       "    </tr>\n",
       "    <tr>\n",
       "      <th>2</th>\n",
       "      <td>f</td>\n",
       "      <td>Apartment</td>\n",
       "      <td>Entire home/apt</td>\n",
       "      <td>Pull-out Sofa</td>\n",
       "      <td>48.851001</td>\n",
       "      <td>2.358690</td>\n",
       "      <td>2</td>\n",
       "      <td>1.0</td>\n",
       "      <td>0.0</td>\n",
       "      <td>148</td>\n",
       "      <td>9.0</td>\n",
       "      <td>9.0</td>\n",
       "      <td>10.0</td>\n",
       "      <td>10.0</td>\n",
       "      <td>10.0</td>\n",
       "      <td>10.0</td>\n",
       "      <td>151.0</td>\n",
       "    </tr>\n",
       "    <tr>\n",
       "      <th>3</th>\n",
       "      <td>t</td>\n",
       "      <td>Apartment</td>\n",
       "      <td>Entire home/apt</td>\n",
       "      <td>Real Bed</td>\n",
       "      <td>48.857576</td>\n",
       "      <td>2.352751</td>\n",
       "      <td>4</td>\n",
       "      <td>1.0</td>\n",
       "      <td>2.0</td>\n",
       "      <td>231</td>\n",
       "      <td>10.0</td>\n",
       "      <td>9.0</td>\n",
       "      <td>10.0</td>\n",
       "      <td>10.0</td>\n",
       "      <td>10.0</td>\n",
       "      <td>9.0</td>\n",
       "      <td>165.0</td>\n",
       "    </tr>\n",
       "    <tr>\n",
       "      <th>4</th>\n",
       "      <td>f</td>\n",
       "      <td>Apartment</td>\n",
       "      <td>Entire home/apt</td>\n",
       "      <td>Real Bed</td>\n",
       "      <td>48.874642</td>\n",
       "      <td>2.343411</td>\n",
       "      <td>2</td>\n",
       "      <td>1.0</td>\n",
       "      <td>2.0</td>\n",
       "      <td>6</td>\n",
       "      <td>10.0</td>\n",
       "      <td>10.0</td>\n",
       "      <td>10.0</td>\n",
       "      <td>10.0</td>\n",
       "      <td>10.0</td>\n",
       "      <td>10.0</td>\n",
       "      <td>159.0</td>\n",
       "    </tr>\n",
       "  </tbody>\n",
       "</table>\n",
       "</div>"
      ],
      "text/plain": [
       "  host_is_superhost property_type        room_type       bed_type   latitude  \\\n",
       "0                 f          Loft  Entire home/apt       Real Bed  48.869933   \n",
       "1                 f     Apartment  Entire home/apt       Real Bed  48.833494   \n",
       "2                 f     Apartment  Entire home/apt  Pull-out Sofa  48.851001   \n",
       "3                 t     Apartment  Entire home/apt       Real Bed  48.857576   \n",
       "4                 f     Apartment  Entire home/apt       Real Bed  48.874642   \n",
       "\n",
       "   longitude  accommodates  bathrooms  bedrooms  number_of_reviews  \\\n",
       "0   2.362511             4        2.0       2.0                  0   \n",
       "1   2.318518             2        1.0       1.0                  7   \n",
       "2   2.358690             2        1.0       0.0                148   \n",
       "3   2.352751             4        1.0       2.0                231   \n",
       "4   2.343411             2        1.0       2.0                  6   \n",
       "\n",
       "   review_scores_accuracy  review_scores_cleanliness  review_scores_checkin  \\\n",
       "0                     NaN                        NaN                    NaN   \n",
       "1                    10.0                       10.0                   10.0   \n",
       "2                     9.0                        9.0                   10.0   \n",
       "3                    10.0                        9.0                   10.0   \n",
       "4                    10.0                       10.0                   10.0   \n",
       "\n",
       "   review_scores_communication  review_scores_location  review_scores_value  \\\n",
       "0                          NaN                     NaN                  NaN   \n",
       "1                         10.0                    10.0                 10.0   \n",
       "2                         10.0                    10.0                 10.0   \n",
       "3                         10.0                    10.0                  9.0   \n",
       "4                         10.0                    10.0                 10.0   \n",
       "\n",
       "   price  \n",
       "0  165.0  \n",
       "1  125.0  \n",
       "2  151.0  \n",
       "3  165.0  \n",
       "4  159.0  "
      ]
     },
     "execution_count": 2,
     "metadata": {},
     "output_type": "execute_result"
    }
   ],
   "source": [
    "import numpy as np\n",
    "# Keeping only the relevant variables\n",
    "dataset = dataset[['host_is_superhost', 'property_type','room_type','bed_type','latitude','longitude',\n",
    "                   'accommodates','bathrooms','bedrooms','number_of_reviews','review_scores_accuracy',\n",
    "                   'review_scores_cleanliness','review_scores_checkin','review_scores_communication',\n",
    "                   'review_scores_location','review_scores_value','price','cleaning_fee']]\n",
    "# We drop all the examples which do not contain a price (our dependent variable)\n",
    "dataset = dataset.dropna(subset=['price'])\n",
    "# Making the prices and cleaning fees readable(they currently include the '$' sign)\n",
    "# Adding the prices and cleaning fees to keep a single dependent variable\n",
    "dataset['price'] = dataset['price'].replace('[\\$,]', '', regex=True).astype(float) + dataset['cleaning_fee'].replace('[\\$,]', '', regex=True).fillna(0).astype(float)\n",
    "dataset = dataset.drop(columns=['cleaning_fee'])\n",
    "\n",
    "# Finally, having a look at the dataset\n",
    "dataset.iloc[:5,:]"
   ]
  },
  {
   "cell_type": "markdown",
   "metadata": {},
   "source": [
    "## 1.3 Creating exploitable variables"
   ]
  },
  {
   "cell_type": "markdown",
   "metadata": {},
   "source": [
    "We will now divide the dataset between the independent variables and the dependent variable."
   ]
  },
  {
   "cell_type": "markdown",
   "metadata": {},
   "source": [
    "In order to do so, we will apply different treatments to the categorical and numerical variables, and will then gather these within X and y variables. We will nevertheless keep the numerical and categorical versions of X, so we can use these in algorithms depending on their qualities."
   ]
  },
  {
   "cell_type": "markdown",
   "metadata": {},
   "source": [
    "Once the preprocessing is completed, we will split the dataset between training and test datasets. Since the dataset is not big (less than 60.000 rows) and since we do not consider delivering a production version of the algorithm, we will not create a cross-validation set."
   ]
  },
  {
   "cell_type": "code",
   "execution_count": 3,
   "metadata": {},
   "outputs": [],
   "source": [
    "from sklearn.preprocessing import Imputer\n",
    "from sklearn.preprocessing import LabelEncoder, OneHotEncoder\n",
    "from sklearn.model_selection import train_test_split\n",
    "\n",
    "# Replacing \"NaN\" values of numerical variables\n",
    "X_numerical = dataset.values[:,4:-2]\n",
    "imputer = Imputer(missing_values = 'NaN', strategy = 'mean', axis = 0)\n",
    "imputer = imputer.fit(X_numerical)\n",
    "X_numerical = imputer.transform(X_numerical)\n",
    "\n",
    "# Encoding the categorical data\n",
    "X_categorical = dataset[['host_is_superhost', 'property_type','room_type','bed_type']].astype('str').apply(LabelEncoder().fit_transform).astype('int64')\n",
    "onehotencoder = OneHotEncoder()\n",
    "X_categorical = onehotencoder.fit_transform(X_categorical).toarray()\n",
    "\n",
    "# Merging back numerical and categorical data\n",
    "X = np.append(X_categorical,X_numerical, axis=1)\n",
    "y = dataset.values[:,-1:]\n",
    "\n",
    "# Finally, we can randomly split the examples between training and test set\n",
    "X_train, X_test, y_train, y_test = train_test_split(X, y, test_size = 0.2)\n",
    "X_num_train, X_num_test, y_num_train, y_num_test = train_test_split(X_numerical, y, test_size = 0.2)\n",
    "X_cat_train, X_cat_test, y_cat_train, y_cat_test = train_test_split(X_categorical, y, test_size = 0.2)"
   ]
  },
  {
   "cell_type": "markdown",
   "metadata": {},
   "source": [
    "# 2 Machine Learning Models\n",
    "Now that our data is ready to be properly used, we will create different machine learning models which will try to answer the problem:"
   ]
  },
  {
   "cell_type": "markdown",
   "metadata": {},
   "source": [
    "*Predict the price per night of an Airbnb flat in Paris.*"
   ]
  },
  {
   "cell_type": "markdown",
   "metadata": {},
   "source": [
    "In order to evaluate and compare the various models, we will use the **Root-Mean-Square-Error function**."
   ]
  },
  {
   "cell_type": "markdown",
   "metadata": {},
   "source": [
    "## 2.1 Linear Regression"
   ]
  },
  {
   "cell_type": "markdown",
   "metadata": {},
   "source": [
    "We will start by building a classic linear regression model. We will run it only on the numerical features, since its performance is greatly improved this way."
   ]
  },
  {
   "cell_type": "code",
   "execution_count": 4,
   "metadata": {},
   "outputs": [],
   "source": [
    "from sklearn.linear_model import LinearRegression\n",
    "from sklearn.metrics import mean_squared_error\n",
    "from math import sqrt\n",
    "\n",
    "#The linear regression function which we will use and evaluate\n",
    "def linear_regression(X_train, y_train, X_test, y_test):\n",
    "    # Fitting Simple Linear Regression to the Training set\n",
    "    regressor = LinearRegression()\n",
    "    regressor.fit(X_train, y_train)\n",
    "    train_rmse = sqrt(mean_squared_error(regressor.predict(X_train),y_train))\n",
    "    test_rmse = sqrt(mean_squared_error(regressor.predict(X_test),y_test))\n",
    "    return train_rmse, test_rmse"
   ]
  },
  {
   "cell_type": "markdown",
   "metadata": {},
   "source": [
    "Let's train and evaluate the model on different amount of data, so we can see its progress."
   ]
  },
  {
   "cell_type": "code",
   "execution_count": 10,
   "metadata": {},
   "outputs": [
    {
     "data": {
      "image/png": "[encoded data removed]",
      "text/plain": [
       "<matplotlib.figure.Figure at 0x7f97f15cda50>"
      ]
     },
     "metadata": {},
     "output_type": "display_data"
    }
   ],
   "source": [
    "import matplotlib.pyplot as plt\n",
    "\n",
    "lr_eval = pd.DataFrame(0, index=range(100), columns=['train rmse', 'test rmse']).astype(float)\n",
    "for i in range(100):\n",
    "  subset_size = int(round(((i+1)*X_num_train.shape[0]/100)))\n",
    "  [lr_eval.values[i,0],lr_eval.values[i,1]] = linear_regression(X_num_train[:subset_size,:],y_num_train[:subset_size], X_num_test, y_num_test)\n",
    "  \n",
    "plt.gca().set_ylim([0,300])\n",
    "plt.plot(lr_eval['train rmse'], label='Training RMSE')\n",
    "plt.plot(lr_eval['test rmse'], label='Test RMSE')\n",
    "plt.show()"
   ]
  },
  {
   "cell_type": "markdown",
   "metadata": {},
   "source": [
    "## 2.2 Polynomial Regression"
   ]
  },
  {
   "cell_type": "code",
   "execution_count": 11,
   "metadata": {},
   "outputs": [],
   "source": [
    "from sklearn.preprocessing import PolynomialFeatures\n",
    "\n",
    "def polynomial_regression(X_train,y_train,X_test,y_test, polynomial_degree):\n",
    "  polynomialFeatures = PolynomialFeatures(degree = polynomial_degree)\n",
    "  X_train_poly = polynomialFeatures.fit_transform(X_train)\n",
    "  polynomialFeatures.fit(X_train_poly, y_train)\n",
    "  polynomial_regressor = LinearRegression()\n",
    "  polynomial_regressor.fit(X_train_poly, y_train)\n",
    "  train_rmse = sqrt(mean_squared_error(polynomial_regressor.predict(X_train_poly),y_train))\n",
    "  test_rmse = sqrt(mean_squared_error(polynomial_regressor.predict(polynomialFeatures.fit_transform(X_test)),y_test))\n",
    "  return train_rmse,test_rmse"
   ]
  },
  {
   "cell_type": "code",
   "execution_count": 14,
   "metadata": {},
   "outputs": [
    {
     "name": "stdout",
     "output_type": "stream",
     "text": [
      "Polynomial Regression n°1/10...\n",
      "Polynomial Regression n°2/10...\n",
      "Polynomial Regression n°3/10...\n",
      "Polynomial Regression n°4/10...\n",
      "Polynomial Regression n°5/10...\n",
      "Polynomial Regression n°6/10...\n",
      "Polynomial Regression n°7/10...\n",
      "Polynomial Regression n°8/10...\n",
      "Polynomial Regression n°9/10...\n",
      "Polynomial Regression n°10/10...\n"
     ]
    },
    {
     "data": {
      "image/png": "[encoded data removed]",
      "text/plain": [
       "<matplotlib.figure.Figure at 0x7f97f150c8d0>"
      ]
     },
     "metadata": {},
     "output_type": "display_data"
    }
   ],
   "source": [
    "pl_num_eval = pd.DataFrame(0, index=range(10), columns=['train rmse', 'test rmse'])\n",
    "for i in range(10):\n",
    "  print('Polynomial Regression n°{}/10...'.format(i+1))\n",
    "  subset_size = int(round(((i+1)*X_num_train.shape[0]/10)))\n",
    "  [pl_num_eval.values[i,0],pl_num_eval.values[i,1]] = polynomial_regression(X_num_train[:subset_size,:],y_num_train[:subset_size], X_num_test[:subset_size,:], y_num_test[:subset_size], polynomial_degree = 3)\n",
    "  \n",
    "plt.gca().set_ylim([0,300])\n",
    "plt.plot(pl_num_eval['train rmse'], label='Training RMSE')\n",
    "plt.plot(pl_num_eval['test rmse'], label='Test RMSE')\n",
    "plt.show()"
   ]
  },
  {
   "cell_type": "markdown",
   "metadata": {},
   "source": [
    "## 2.3 Random Forest Regression"
   ]
  },
  {
   "cell_type": "code",
   "execution_count": 15,
   "metadata": {},
   "outputs": [],
   "source": [
    "from sklearn.ensemble import RandomForestRegressor\n",
    "\n",
    "def rf_regression(X_train,y_train,X_test,y_test,estimators):\n",
    "  rf_regressor = RandomForestRegressor(n_estimators = estimators)\n",
    "  rf_regressor.fit(X_train, y_train)\n",
    "  rf_train_rmse = sqrt(mean_squared_error(rf_regressor.predict(X_train),y_train))\n",
    "  rf_test_rmse = sqrt(mean_squared_error(rf_regressor.predict(X_test),y_test))\n",
    "  return rf_train_rmse, rf_test_rmse"
   ]
  },
  {
   "cell_type": "code",
   "execution_count": 16,
   "metadata": {},
   "outputs": [
    {
     "name": "stdout",
     "output_type": "stream",
     "text": [
      "Random Forest Regression n°1/10...\n"
     ]
    },
    {
     "name": "stderr",
     "output_type": "stream",
     "text": [
      "/usr/local/envs/py2env/lib/python2.7/site-packages/ipykernel/__main__.py:5: DataConversionWarning: A column-vector y was passed when a 1d array was expected. Please change the shape of y to (n_samples,), for example using ravel().\n"
     ]
    },
    {
     "name": "stdout",
     "output_type": "stream",
     "text": [
      "Random Forest Regression n°2/10...\n",
      "Random Forest Regression n°3/10...\n",
      "Random Forest Regression n°4/10...\n",
      "Random Forest Regression n°5/10...\n",
      "Random Forest Regression n°6/10...\n",
      "Random Forest Regression n°7/10...\n",
      "Random Forest Regression n°8/10...\n",
      "Random Forest Regression n°9/10...\n",
      "Random Forest Regression n°10/10...\n"
     ]
    },
    {
     "data": {
      "image/png": "[encoded data removed]",
      "text/plain": [
       "<matplotlib.figure.Figure at 0x7f9803150210>"
      ]
     },
     "metadata": {},
     "output_type": "display_data"
    }
   ],
   "source": [
    "rf_eval = pd.DataFrame(0, index=range(10), columns=['train rmse', 'test rmse'])\n",
    "for i in range(10):\n",
    "  print('Random Forest Regression n°{}/10...'.format(i+1))\n",
    "  subset_size = int(round(((i+1)*X_train.shape[0]/10)))\n",
    "  [rf_eval.values[i,0],rf_eval.values[i,1]] = rf_regression(X_train[:subset_size,:],y_train[:subset_size],\n",
    "                                                                    X_test, y_test, estimators = 40)\n",
    "plt.gca().set_ylim([0,200])\n",
    "plt.plot(rf_eval['train rmse'], label='Training RMSE')\n",
    "plt.plot(rf_eval['test rmse'], label='Test RMSE')\n",
    "plt.show()"
   ]
  },
  {
   "cell_type": "markdown",
   "metadata": {},
   "source": [
    "## 2.4 Support Vector Regression"
   ]
  },
  {
   "cell_type": "code",
   "execution_count": 18,
   "metadata": {},
   "outputs": [],
   "source": [
    "from sklearn.svm import SVR\n",
    "\n",
    "def sv_regression(X_train,y_train,X_test,y_test):\n",
    "  sv_regressor = SVR(kernel = 'rbf')\n",
    "  sv_regressor.fit(X_train, y_train)\n",
    "  sv_train_rmse = sqrt(mean_squared_error(sv_regressor.predict(X_train),y_train))\n",
    "  sv_test_rmse = sqrt(mean_squared_error(sv_regressor.predict(X_test),y_test))\n",
    "  return sv_train_rmse, sv_test_rmse"
   ]
  },
  {
   "cell_type": "code",
   "execution_count": null,
   "metadata": {},
   "outputs": [],
   "source": [
    "sv_eval = pd.DataFrame(0, index=range(5), columns=['train rmse', 'test rmse'])\n",
    "for i in range(5):\n",
    "  print('Support Vector Regression n°{}/5...'.format(i+1))\n",
    "  subset_size = int(round(((i+1)*X_train.shape[0]/5)))\n",
    "  [sv_eval.values[i,0],sv_eval.values[i,1]] = sv_regression(X_train[:subset_size,:],y_train[:subset_size], X_test, y_test)\n",
    "  \n",
    "plt.gca().set_ylim([0,200])\n",
    "plt.plot(sv_eval['train rmse'], label='Training RMSE')\n",
    "plt.plot(sv_eval['test rmse'], label='Test RMSE')\n",
    "plt.show()"
   ]
  },
  {
   "cell_type": "markdown",
   "metadata": {},
   "source": [
    "## 2.5 Deep Neural Network"
   ]
  },
  {
   "cell_type": "code",
   "execution_count": null,
   "metadata": {},
   "outputs": [],
   "source": [
    "import keras\n",
    "from keras.models import Sequential\n",
    "from keras.layers import Dense\n",
    "from time import time\n",
    "from keras.callbacks import TensorBoard\n",
    "from google.datalab.ml import TensorBoard as tb # if running from a Google Cloud Platform Datalab\n",
    "\n",
    "regressor = Sequential()\n",
    "regressor.add(Dense(kernel_initializer = 'normal', activation = 'relu', input_dim = 46, units = 28))\n",
    "regressor.add(Dense(kernel_initializer = 'normal', activation = 'relu', input_dim = 28, units = 12))\n",
    "regressor.add(Dense(kernel_initializer = 'normal', activation = 'relu', input_dim = 12, units = 6))\n",
    "regressor.add(Dense(kernel_initializer = 'normal', input_dim = 6, units = 1))\n",
    "# Compiling the ANN\n",
    "regressor.compile(optimizer = 'adam', loss = 'mean_squared_error')"
   ]
  },
  {
   "cell_type": "code",
   "execution_count": null,
   "metadata": {},
   "outputs": [],
   "source": [
    "tensorboard = TensorBoard(log_dir=\"logs/{}\".format(time()))\n",
    "regressor.fit(X_train, y_train, batch_size = 100, epochs = 50, callbacks=[tensorboard])\n",
    "y_pred = regressor.predict(X_test)\n",
    "y_train_pred = regressor.predict(X_train)\n",
    "dnn_training_rmse = sqrt(mean_squared_error(y_train_pred, y_train))\n",
    "dnn_test_rmse = sqrt(mean_squared_error(y_pred,y_test))\n",
    "print(dnn_training_rmse, dnn_test_rmse)"
   ]
  },
  {
   "cell_type": "code",
   "execution_count": null,
   "metadata": {},
   "outputs": [],
   "source": [
    "y_pred = regressor.predict(X_test)\n",
    "y_train_pred = regressor.predict(X_train)\n",
    "dnn_training_rmse = sqrt(mean_squared_error(y_train_pred, y_train))\n",
    "dnn_test_rmse = sqrt(mean_squared_error(y_pred,y_test))\n",
    "print(dnn_training_rmse, dnn_test_rmse)"
   ]
  },
  {
   "cell_type": "code",
   "execution_count": null,
   "metadata": {},
   "outputs": [],
   "source": [
    "tb.start('./logs') # Only start it if it is not start yet"
   ]
  }
 ],
 "metadata": {
  "kernelspec": {
   "display_name": "Python 2",
   "language": "python",
   "name": "python2"
  },
  "language_info": {
   "codemirror_mode": {
    "name": "ipython",
    "version": 2
   },
   "file_extension": ".py",
   "mimetype": "text/x-python",
   "name": "python",
   "nbconvert_exporter": "python",
   "pygments_lexer": "ipython2",
   "version": "2.7.15"
  }
 },
 "nbformat": 4,
 "nbformat_minor": 2
}
