{
 "cells": [
  {
   "cell_type": "markdown",
   "metadata": {},
   "source": [
    "# Paris Airbnb Price\n",
    "How much should I rent my flat per night?\n",
    "\n",
    "In this project, we will use several Machine Learning models for predicting the night price of an appartment posted on Airbnb, depending on multiple variables.\n",
    "The dataset is available at http://insideairbnb.com/get-the-data.html under a Creative Commons CC0 1.0 Universal (CC0 1.0) \"Public Domain Dedication\" license."
   ]
  },
  {
   "cell_type": "markdown",
   "metadata": {},
   "source": [
    "Before starting our work, we should check that the two following components used for Deep Learning are installed when we are running this notebook for the first time on a server, and then reset the Jupyter session."
   ]
  },
  {
   "cell_type": "code",
   "execution_count": null,
   "metadata": {},
   "outputs": [],
   "source": [
    "!pip3 install keras\n",
    "!pip install Tensorboard"
   ]
  },
  {
   "cell_type": "markdown",
   "metadata": {},
   "source": [
    "## 1. Data Preprocessing\n",
    "In this first part, we will explorate the data from Inside Airbnb."
   ]
  },
  {
   "cell_type": "markdown",
   "metadata": {},
   "source": [
    "The goals are to:\n",
    "- Import the dataset\n",
    "- Select and clean the more relevant features\n",
    "- Create variables ready to be exploited by our Machine Learning models "
   ]
  },
  {
   "cell_type": "markdown",
   "metadata": {},
   "source": [
    "### 1.1 Import the dataset within the Python kernel\n",
    "If the data file is not uncompressed yet, we have to uncompress it. The code below should not be run if the data has already been uncompressed. Furthermore, it supposes that the listing.csv.gz file from http://insideairbnb.com/get-the-data.html (Paris, France) is available on the 'data' folder."
   ]
  },
  {
   "cell_type": "code",
   "execution_count": null,
   "metadata": {},
   "outputs": [],
   "source": [
    "import gzip\n",
    "import shutil\n",
    "with gzip.open('data/listings.csv.gz', 'rb') as f_in:\n",
    "    with open('data/listings.csv', 'wb') as f_out:\n",
    "        shutil.copyfileobj(f_in, f_out)"
   ]
  },
  {
   "cell_type": "markdown",
   "metadata": {},
   "source": [
    "Now we can import the dataset directly from the .csv file and have a quick look at it."
   ]
  },
  {
   "cell_type": "code",
   "execution_count": 2,
   "metadata": {},
   "outputs": [
    {
     "name": "stdout",
     "output_type": "stream",
     "text": [
      "Index(['id', 'listing_url', 'scrape_id', 'last_scraped', 'name', 'summary',\n",
      "       'space', 'description', 'experiences_offered', 'neighborhood_overview',\n",
      "       'notes', 'transit', 'access', 'interaction', 'house_rules',\n",
      "       'thumbnail_url', 'medium_url', 'picture_url', 'xl_picture_url',\n",
      "       'host_id', 'host_url', 'host_name', 'host_since', 'host_location',\n",
      "       'host_about', 'host_response_time', 'host_response_rate',\n",
      "       'host_acceptance_rate', 'host_is_superhost', 'host_thumbnail_url',\n",
      "       'host_picture_url', 'host_neighbourhood', 'host_listings_count',\n",
      "       'host_total_listings_count', 'host_verifications',\n",
      "       'host_has_profile_pic', 'host_identity_verified', 'street',\n",
      "       'neighbourhood', 'neighbourhood_cleansed',\n",
      "       'neighbourhood_group_cleansed', 'city', 'state', 'zipcode', 'market',\n",
      "       'smart_location', 'country_code', 'country', 'latitude', 'longitude',\n",
      "       'is_location_exact', 'property_type', 'room_type', 'accommodates',\n",
      "       'bathrooms', 'bedrooms', 'beds', 'bed_type', 'amenities', 'square_feet',\n",
      "       'price', 'weekly_price', 'monthly_price', 'security_deposit',\n",
      "       'cleaning_fee', 'guests_included', 'extra_people', 'minimum_nights',\n",
      "       'maximum_nights', 'calendar_updated', 'has_availability',\n",
      "       'availability_30', 'availability_60', 'availability_90',\n",
      "       'availability_365', 'calendar_last_scraped', 'number_of_reviews',\n",
      "       'first_review', 'last_review', 'review_scores_rating',\n",
      "       'review_scores_accuracy', 'review_scores_cleanliness',\n",
      "       'review_scores_checkin', 'review_scores_communication',\n",
      "       'review_scores_location', 'review_scores_value', 'requires_license',\n",
      "       'license', 'jurisdiction_names', 'instant_bookable',\n",
      "       'is_business_travel_ready', 'cancellation_policy',\n",
      "       'require_guest_profile_picture', 'require_guest_phone_verification',\n",
      "       'calculated_host_listings_count', 'reviews_per_month'],\n",
      "      dtype='object')\n",
      "(59881, 96)\n"
     ]
    }
   ],
   "source": [
    "import pandas as pd\n",
    "dataset = pd.read_csv('data/listings.csv', low_memory=False)\n",
    "print(dataset.columns)\n",
    "print(dataset.shape)"
   ]
  },
  {
   "cell_type": "markdown",
   "metadata": {},
   "source": [
    "## 1.2 Select and clean the more relevant features"
   ]
  },
  {
   "cell_type": "markdown",
   "metadata": {},
   "source": [
    "We can see that there are 96 different variables."
   ]
  },
  {
   "cell_type": "markdown",
   "metadata": {},
   "source": [
    "We will keep only the relevant ones, for solving our problem: predicting the price per night of an Airbnb flat in Paris, France. This price per night will be composed of both the price and the cleaning fee, values which we will place in the last columns of the dataset."
   ]
  },
  {
   "cell_type": "markdown",
   "metadata": {},
   "source": [
    "*I selected these variables during continuous improvement of the machine learning models for their respective relevance, and the success of the models.*\n",
    "For example:\n",
    "- Some of these are directly related (neighbourhood and zipcode directly depends of latitude and longitude / global review score depends on the other review scores)\n",
    "- Square feet field is rarely fullfilled\n",
    "- Prices are treated as strings because they contain the '$' character.\n",
    "- When there is no review, the other review variables are considered 'Nan'.\n",
    "- Sometimes, the other review variables are 'NaN' even though there are reviews."
   ]
  },
  {
   "cell_type": "code",
   "execution_count": 3,
   "metadata": {},
   "outputs": [
    {
     "data": {
      "text/html": [
       "<div>\n",
       "<style scoped>\n",
       "    .dataframe tbody tr th:only-of-type {\n",
       "        vertical-align: middle;\n",
       "    }\n",
       "\n",
       "    .dataframe tbody tr th {\n",
       "        vertical-align: top;\n",
       "    }\n",
       "\n",
       "    .dataframe thead th {\n",
       "        text-align: right;\n",
       "    }\n",
       "</style>\n",
       "<table border=\"1\" class=\"dataframe\">\n",
       "  <thead>\n",
       "    <tr style=\"text-align: right;\">\n",
       "      <th></th>\n",
       "      <th>host_is_superhost</th>\n",
       "      <th>property_type</th>\n",
       "      <th>room_type</th>\n",
       "      <th>bed_type</th>\n",
       "      <th>latitude</th>\n",
       "      <th>longitude</th>\n",
       "      <th>accommodates</th>\n",
       "      <th>bathrooms</th>\n",
       "      <th>bedrooms</th>\n",
       "      <th>number_of_reviews</th>\n",
       "      <th>review_scores_accuracy</th>\n",
       "      <th>review_scores_cleanliness</th>\n",
       "      <th>review_scores_checkin</th>\n",
       "      <th>review_scores_communication</th>\n",
       "      <th>review_scores_location</th>\n",
       "      <th>review_scores_value</th>\n",
       "      <th>price</th>\n",
       "    </tr>\n",
       "  </thead>\n",
       "  <tbody>\n",
       "    <tr>\n",
       "      <th>0</th>\n",
       "      <td>f</td>\n",
       "      <td>Loft</td>\n",
       "      <td>Entire home/apt</td>\n",
       "      <td>Real Bed</td>\n",
       "      <td>48.869933</td>\n",
       "      <td>2.362511</td>\n",
       "      <td>4</td>\n",
       "      <td>2.0</td>\n",
       "      <td>2.0</td>\n",
       "      <td>0</td>\n",
       "      <td>NaN</td>\n",
       "      <td>NaN</td>\n",
       "      <td>NaN</td>\n",
       "      <td>NaN</td>\n",
       "      <td>NaN</td>\n",
       "      <td>NaN</td>\n",
       "      <td>165.0</td>\n",
       "    </tr>\n",
       "    <tr>\n",
       "      <th>1</th>\n",
       "      <td>f</td>\n",
       "      <td>Apartment</td>\n",
       "      <td>Entire home/apt</td>\n",
       "      <td>Real Bed</td>\n",
       "      <td>48.833494</td>\n",
       "      <td>2.318518</td>\n",
       "      <td>2</td>\n",
       "      <td>1.0</td>\n",
       "      <td>1.0</td>\n",
       "      <td>7</td>\n",
       "      <td>10.0</td>\n",
       "      <td>10.0</td>\n",
       "      <td>10.0</td>\n",
       "      <td>10.0</td>\n",
       "      <td>10.0</td>\n",
       "      <td>10.0</td>\n",
       "      <td>125.0</td>\n",
       "    </tr>\n",
       "    <tr>\n",
       "      <th>2</th>\n",
       "      <td>f</td>\n",
       "      <td>Apartment</td>\n",
       "      <td>Entire home/apt</td>\n",
       "      <td>Pull-out Sofa</td>\n",
       "      <td>48.851001</td>\n",
       "      <td>2.358690</td>\n",
       "      <td>2</td>\n",
       "      <td>1.0</td>\n",
       "      <td>0.0</td>\n",
       "      <td>148</td>\n",
       "      <td>9.0</td>\n",
       "      <td>9.0</td>\n",
       "      <td>10.0</td>\n",
       "      <td>10.0</td>\n",
       "      <td>10.0</td>\n",
       "      <td>10.0</td>\n",
       "      <td>151.0</td>\n",
       "    </tr>\n",
       "    <tr>\n",
       "      <th>3</th>\n",
       "      <td>t</td>\n",
       "      <td>Apartment</td>\n",
       "      <td>Entire home/apt</td>\n",
       "      <td>Real Bed</td>\n",
       "      <td>48.857576</td>\n",
       "      <td>2.352751</td>\n",
       "      <td>4</td>\n",
       "      <td>1.0</td>\n",
       "      <td>2.0</td>\n",
       "      <td>231</td>\n",
       "      <td>10.0</td>\n",
       "      <td>9.0</td>\n",
       "      <td>10.0</td>\n",
       "      <td>10.0</td>\n",
       "      <td>10.0</td>\n",
       "      <td>9.0</td>\n",
       "      <td>165.0</td>\n",
       "    </tr>\n",
       "    <tr>\n",
       "      <th>4</th>\n",
       "      <td>f</td>\n",
       "      <td>Apartment</td>\n",
       "      <td>Entire home/apt</td>\n",
       "      <td>Real Bed</td>\n",
       "      <td>48.874642</td>\n",
       "      <td>2.343411</td>\n",
       "      <td>2</td>\n",
       "      <td>1.0</td>\n",
       "      <td>2.0</td>\n",
       "      <td>6</td>\n",
       "      <td>10.0</td>\n",
       "      <td>10.0</td>\n",
       "      <td>10.0</td>\n",
       "      <td>10.0</td>\n",
       "      <td>10.0</td>\n",
       "      <td>10.0</td>\n",
       "      <td>159.0</td>\n",
       "    </tr>\n",
       "  </tbody>\n",
       "</table>\n",
       "</div>"
      ],
      "text/plain": [
       "  host_is_superhost property_type        room_type       bed_type   latitude  \\\n",
       "0                 f          Loft  Entire home/apt       Real Bed  48.869933   \n",
       "1                 f     Apartment  Entire home/apt       Real Bed  48.833494   \n",
       "2                 f     Apartment  Entire home/apt  Pull-out Sofa  48.851001   \n",
       "3                 t     Apartment  Entire home/apt       Real Bed  48.857576   \n",
       "4                 f     Apartment  Entire home/apt       Real Bed  48.874642   \n",
       "\n",
       "   longitude  accommodates  bathrooms  bedrooms  number_of_reviews  \\\n",
       "0   2.362511             4        2.0       2.0                  0   \n",
       "1   2.318518             2        1.0       1.0                  7   \n",
       "2   2.358690             2        1.0       0.0                148   \n",
       "3   2.352751             4        1.0       2.0                231   \n",
       "4   2.343411             2        1.0       2.0                  6   \n",
       "\n",
       "   review_scores_accuracy  review_scores_cleanliness  review_scores_checkin  \\\n",
       "0                     NaN                        NaN                    NaN   \n",
       "1                    10.0                       10.0                   10.0   \n",
       "2                     9.0                        9.0                   10.0   \n",
       "3                    10.0                        9.0                   10.0   \n",
       "4                    10.0                       10.0                   10.0   \n",
       "\n",
       "   review_scores_communication  review_scores_location  review_scores_value  \\\n",
       "0                          NaN                     NaN                  NaN   \n",
       "1                         10.0                    10.0                 10.0   \n",
       "2                         10.0                    10.0                 10.0   \n",
       "3                         10.0                    10.0                  9.0   \n",
       "4                         10.0                    10.0                 10.0   \n",
       "\n",
       "   price  \n",
       "0  165.0  \n",
       "1  125.0  \n",
       "2  151.0  \n",
       "3  165.0  \n",
       "4  159.0  "
      ]
     },
     "execution_count": 3,
     "metadata": {},
     "output_type": "execute_result"
    }
   ],
   "source": [
    "import numpy as np\n",
    "# Keeping only the relevant variables\n",
    "dataset = dataset[['host_is_superhost', 'property_type','room_type','bed_type','latitude','longitude',\n",
    "                   'accommodates','bathrooms','bedrooms','number_of_reviews','review_scores_accuracy',\n",
    "                   'review_scores_cleanliness','review_scores_checkin','review_scores_communication',\n",
    "                   'review_scores_location','review_scores_value','price','cleaning_fee']]\n",
    "# We drop all the examples which do not contain a price (our dependent variable)\n",
    "dataset = dataset.dropna(subset=['price'])\n",
    "# Making the prices and cleaning fees readable(they currently include the '$' sign)\n",
    "# Adding the prices and cleaning fees to keep a single dependent variable\n",
    "dataset['price'] = dataset['price'].replace('[\\$,]', '', regex=True).astype(float) + dataset['cleaning_fee'].replace('[\\$,]', '', regex=True).fillna(0).astype(float)\n",
    "dataset = dataset.drop(columns=['cleaning_fee'])\n",
    "\n",
    "# Finally, having a look at the dataset\n",
    "dataset.iloc[:5,:]"
   ]
  },
  {
   "cell_type": "markdown",
   "metadata": {},
   "source": [
    "## 1.3 Creating exploitable variables"
   ]
  },
  {
   "cell_type": "markdown",
   "metadata": {},
   "source": [
    "We will now divide the dataset between the independent variables and the dependent variable."
   ]
  },
  {
   "cell_type": "markdown",
   "metadata": {},
   "source": [
    "In order to do so, we will apply different treatments to the categorical and numerical variables, and will then gather these within X and y variables. We will nevertheless keep the numerical and categorical versions of X, so we can use these in algorithms depending on their qualities."
   ]
  },
  {
   "cell_type": "markdown",
   "metadata": {},
   "source": [
    "Once the preprocessing is completed, we will split the dataset between training and test datasets. Since the dataset is not big (less than 60.000 rows) and since we do not consider delivering a production version of the algorithm, we will not create a cross-validation set."
   ]
  },
  {
   "cell_type": "code",
   "execution_count": 4,
   "metadata": {},
   "outputs": [],
   "source": [
    "from sklearn.preprocessing import Imputer\n",
    "from sklearn.preprocessing import StandardScaler\n",
    "from sklearn.preprocessing import LabelEncoder, OneHotEncoder\n",
    "from sklearn.model_selection import train_test_split\n",
    "\n",
    "# Replacing \"NaN\" values of numerical variables\n",
    "X_numerical = dataset.values[:,4:-1]\n",
    "imputer = Imputer(missing_values = 'NaN', strategy = 'mean', axis = 0)\n",
    "imputer = imputer.fit(X_numerical)\n",
    "X_numerical = imputer.transform(X_numerical)\n",
    "# Standard scaling the numerical variables\n",
    "sc_X = StandardScaler()\n",
    "X_numerical = sc_X.fit_transform(X_numerical)\n",
    "\n",
    "# Encoding the categorical data\n",
    "X_categorical = dataset[['host_is_superhost', 'property_type','room_type','bed_type']].astype('str').apply(LabelEncoder().fit_transform).astype('int64')\n",
    "onehotencoder = OneHotEncoder()\n",
    "X_categorical = onehotencoder.fit_transform(X_categorical).toarray()\n",
    "\n",
    "# Merging back numerical and categorical data\n",
    "X = np.append(X_categorical,X_numerical, axis=1)\n",
    "y = dataset.values[:,-1:]\n",
    "\n",
    "# Finally, we can randomly split the examples between training and test set\n",
    "X_train, X_test, y_train, y_test = train_test_split(X, y, test_size = 0.2)\n",
    "X_num_train, X_num_test, y_num_train, y_num_test = train_test_split(X_numerical, y, test_size = 0.2)\n",
    "X_cat_train, X_cat_test, y_cat_train, y_cat_test = train_test_split(X_categorical, y, test_size = 0.2)"
   ]
  },
  {
   "cell_type": "markdown",
   "metadata": {},
   "source": [
    "# 2. Machine Learning Models\n",
    "Now that our data is ready to be properly used, we will create different machine learning models which will try to answer the problem:"
   ]
  },
  {
   "cell_type": "markdown",
   "metadata": {},
   "source": [
    "*Predict the price per night of an Airbnb flat in Paris.*"
   ]
  },
  {
   "cell_type": "markdown",
   "metadata": {},
   "source": [
    "In order to evaluate and compare the various models, we will use the **Mean Absolute Error function**:\n",
    "$$MAE = \\frac{\\sum_{i=1}^n \\lvert x_i - y_i \\rvert}{n}$$"
   ]
  },
  {
   "cell_type": "markdown",
   "metadata": {},
   "source": [
    "## 2.0 Rule of thumb\n",
    "In order to be able to scale our various models results, we will create a really simple rule of thumb for predicting the price of an Airbnb in Paris: we will use the mean price of the dataset."
   ]
  },
  {
   "cell_type": "code",
   "execution_count": 36,
   "metadata": {},
   "outputs": [
    {
     "name": "stdout",
     "output_type": "stream",
     "text": [
      "The mean price of an Airbnb flat in Paris is 136.98919523722049.\n",
      "If we use this mean as a rule of thumb, its mean absolute error is 77.9029935041523.\n"
     ]
    }
   ],
   "source": [
    "from sklearn.metrics import mean_absolute_error\n",
    "from math import sqrt\n",
    "\n",
    "# Predicting the price of all airbnbs by using their mean price.\n",
    "print('The mean price of an Airbnb flat in Paris is {}.'.format(np.mean(y)))\n",
    "thumb_mae = mean_absolute_error(np.full((y.shape),fill_value = np.mean(y)),y)\n",
    "print('If we use this mean as a rule of thumb, its mean absolute error is {}.'.format(thumb_rmse))"
   ]
  },
  {
   "cell_type": "markdown",
   "metadata": {},
   "source": [
    "## 2.1 Linear Regression"
   ]
  },
  {
   "cell_type": "markdown",
   "metadata": {},
   "source": [
    "We will start by building a classic linear regression model. We will run it only on the numerical features, since its performance is greatly improved this way."
   ]
  },
  {
   "cell_type": "code",
   "execution_count": 39,
   "metadata": {},
   "outputs": [],
   "source": [
    "from sklearn.linear_model import LinearRegression\n",
    "\n",
    "#The linear regression function which we will use and evaluate\n",
    "def linear_regression(X_train, y_train, X_test, y_test):\n",
    "    # Fitting Simple Linear Regression to the Training set\n",
    "    regressor = LinearRegression()\n",
    "    regressor.fit(X_train, y_train)\n",
    "    train_mae = mean_absolute_error(regressor.predict(X_train),y_train)\n",
    "    test_mae = mean_absolute_error(regressor.predict(X_test),y_test)\n",
    "    return train_mae, test_mae\n",
    "\n",
    "def show_results(training_eval, test_eval):\n",
    "  plt.gca().set_ylim([0,100])\n",
    "  plt.plot(training_eval, label='Training MAE')\n",
    "  plt.plot(test_eval, label='Test MAE')\n",
    "  plt.legend()\n",
    "  plt.xlabel('Training set size')\n",
    "  plt.ylabel('RMSE ($)')\n",
    "  plt.show()"
   ]
  },
  {
   "cell_type": "markdown",
   "metadata": {},
   "source": [
    "Let's train and evaluate the model on different amount of data, so we can see its progress."
   ]
  },
  {
   "cell_type": "code",
   "execution_count": 40,
   "metadata": {},
   "outputs": [
    {
     "name": "stdout",
     "output_type": "stream",
     "text": [
      "Linear Regression n°100/100...\r"
     ]
    },
    {
     "name": "stderr",
     "output_type": "stream",
     "text": [
      "/usr/local/envs/py3env/lib/python3.5/site-packages/matplotlib/font_manager.py:1320: UserWarning: findfont: Font family ['sans-serif'] not found. Falling back to DejaVu Sans\n",
      "  (prop.get_family(), self.defaultFamily[fontext]))\n"
     ]
    },
    {
     "data": {
      "image/png": "[encoded data removed]",
      "text/plain": [
       "<matplotlib.figure.Figure at 0x7f40dc33ff28>"
      ]
     },
     "metadata": {},
     "output_type": "display_data"
    }
   ],
   "source": [
    "import matplotlib.pyplot as plt\n",
    "\n",
    "lr_eval = pd.DataFrame(0, index=range(100), columns=['train', 'test']).astype(float)\n",
    "for i in range(100):\n",
    "  print('Linear Regression n°{}/100...'.format(i+1), end='\\r')\n",
    "  subset_size = int(round(((i+1)*X_num_train.shape[0]/100)))\n",
    "  [lr_eval.values[i,0],lr_eval.values[i,1]] = linear_regression(X_num_train[:subset_size,:],y_num_train[:subset_size], X_num_test, y_num_test)\n",
    "  \n",
    "show_results(lr_eval['train'], lr_eval['test'])"
   ]
  },
  {
   "cell_type": "markdown",
   "metadata": {},
   "source": [
    "Both our training and test mean absolute errors are nearly constant around 60.\n",
    "Although this is better that our rule of thumb (77), they are not decreasing with more data."
   ]
  },
  {
   "cell_type": "markdown",
   "metadata": {},
   "source": [
    "As we can see, linear regression does not properly fit the dataset and the problem that we are trying to solve. We should try other machine learning models and see which one we'll choose depending on their respective results."
   ]
  },
  {
   "cell_type": "markdown",
   "metadata": {},
   "source": [
    "## 2.2 Polynomial Regression"
   ]
  },
  {
   "cell_type": "markdown",
   "metadata": {},
   "source": [
    "Let's start by building our polynomial regression function which will fit our training dataset and predict our test dataset, allowing us to measure its performance."
   ]
  },
  {
   "cell_type": "code",
   "execution_count": 41,
   "metadata": {},
   "outputs": [],
   "source": [
    "from sklearn.preprocessing import PolynomialFeatures\n",
    "\n",
    "def polynomial_regression(X_train,y_train,X_test,y_test, polynomial_degree):\n",
    "  polynomialFeatures = PolynomialFeatures(degree = polynomial_degree)\n",
    "  X_train_poly = polynomialFeatures.fit_transform(X_train)\n",
    "  polynomialFeatures.fit(X_train_poly, y_train)\n",
    "  polynomial_regressor = LinearRegression()\n",
    "  polynomial_regressor.fit(X_train_poly, y_train)\n",
    "  train_mae = mean_absolute_error(polynomial_regressor.predict(X_train_poly),y_train)\n",
    "  test_mae = mean_absolute_error(polynomial_regressor.predict(polynomialFeatures.fit_transform(X_test)),y_test)\n",
    "  return train_mae,test_mae"
   ]
  },
  {
   "cell_type": "markdown",
   "metadata": {},
   "source": [
    "Now let's measure our polynomial regression root mean squared error for various amount of data.\n",
    "We'll use a degree of 3 in order to avoid the computation to take too much time."
   ]
  },
  {
   "cell_type": "code",
   "execution_count": 54,
   "metadata": {},
   "outputs": [
    {
     "name": "stdout",
     "output_type": "stream",
     "text": [
      "Polynomial Regression n°10/10...\r"
     ]
    },
    {
     "name": "stderr",
     "output_type": "stream",
     "text": [
      "/usr/local/envs/py3env/lib/python3.5/site-packages/matplotlib/font_manager.py:1320: UserWarning: findfont: Font family ['sans-serif'] not found. Falling back to DejaVu Sans\n",
      "  (prop.get_family(), self.defaultFamily[fontext]))\n"
     ]
    },
    {
     "data": {
      "image/png": "[encoded data removed]",
      "text/plain": [
       "<matplotlib.figure.Figure at 0x7f40dc3ccac8>"
      ]
     },
     "metadata": {},
     "output_type": "display_data"
    }
   ],
   "source": [
    "pl_num_eval = pd.DataFrame(0, index=range(10), columns=['train', 'test'])\n",
    "for i in range(10):\n",
    "  print('Polynomial Regression n°{}/10...'.format(i+1), end='\\r')\n",
    "  subset_size = int(round(((i+1)*X_num_train.shape[0]/10)))\n",
    "  [pl_num_eval.values[i,0],pl_num_eval.values[i,1]] = polynomial_regression(X_num_train[:subset_size,:],\n",
    "                                                                            y_num_train[:subset_size], X_num_test,\n",
    "                                                                            y_num_test, polynomial_degree = 3)\n",
    "  \n",
    "show_results(pl_num_eval['train'], pl_num_eval['test'])"
   ]
  },
  {
   "cell_type": "markdown",
   "metadata": {},
   "source": [
    "Our mean absolute errors converge slightly over 54, which is better than both our rule of thumb (77) and our linear regression model (60). Nevertheless, our model seem to underfit the training set, and we should either find more interesting features or increase the polynomial degree."
   ]
  },
  {
   "cell_type": "markdown",
   "metadata": {},
   "source": [
    "## 2.3 Random Forest Regression"
   ]
  },
  {
   "cell_type": "markdown",
   "metadata": {},
   "source": [
    "We'll try a Random Forest Regression for this problem and see if we can achieve a good result."
   ]
  },
  {
   "cell_type": "code",
   "execution_count": 46,
   "metadata": {},
   "outputs": [],
   "source": [
    "from sklearn.ensemble import RandomForestRegressor\n",
    "\n",
    "def rf_regression(X_train,y_train,X_test,y_test,estimators):\n",
    "  rf_regressor = RandomForestRegressor(n_estimators = estimators)\n",
    "  rf_regressor.fit(X_train, y_train)\n",
    "  rf_train_mae = mean_absolute_error(rf_regressor.predict(X_train),y_train)\n",
    "  rf_test_mae = mean_absolute_error(rf_regressor.predict(X_test),y_test)\n",
    "  return rf_train_mae, rf_test_mae"
   ]
  },
  {
   "cell_type": "markdown",
   "metadata": {},
   "source": [
    "Let's test our RF regression model with 50 estimators (after a few tests, I realized that this number was the best compromise between computation time and results)."
   ]
  },
  {
   "cell_type": "code",
   "execution_count": 62,
   "metadata": {},
   "outputs": [
    {
     "name": "stdout",
     "output_type": "stream",
     "text": [
      "Random Forest Regression n°10/10...\r"
     ]
    },
    {
     "name": "stderr",
     "output_type": "stream",
     "text": [
      "/usr/local/envs/py3env/lib/python3.5/site-packages/matplotlib/font_manager.py:1320: UserWarning: findfont: Font family ['sans-serif'] not found. Falling back to DejaVu Sans\n",
      "  (prop.get_family(), self.defaultFamily[fontext]))\n"
     ]
    },
    {
     "data": {
      "image/png": "[encoded data removed]",
      "text/plain": [
       "<matplotlib.figure.Figure at 0x7f40dc3a5048>"
      ]
     },
     "metadata": {},
     "output_type": "display_data"
    }
   ],
   "source": [
    "rf_eval = pd.DataFrame(0, index=range(10), columns=['train', 'test'])\n",
    "for i in range(10):\n",
    "  print('Random Forest Regression n°{}/10...'.format(i+1), end='\\r')\n",
    "  subset_size = int(round(((i+1)*X_train.shape[0]/10)))\n",
    "  [rf_eval.values[i,0],rf_eval.values[i,1]] = rf_regression(X_train[:subset_size,:],y_train[:subset_size].ravel(),\n",
    "                                                                    X_test, y_test, estimators = 40)\n",
    "\n",
    "show_results(rf_eval['train'], rf_eval['test'])"
   ]
  },
  {
   "cell_type": "markdown",
   "metadata": {},
   "source": [
    "Here we are! Our Random Forest Regression is achieving some great results."
   ]
  },
  {
   "cell_type": "markdown",
   "metadata": {},
   "source": [
    "We are at around 51 of mean absolute error, which is good by comparison with our linear regression (60), polynomial regression (54).\n",
    "Furthermore, our training MAE is of 19, which means that our model overfits our training set, and that we can improve it by obtaining more training example."
   ]
  },
  {
   "cell_type": "markdown",
   "metadata": {},
   "source": [
    "## 2.4 Deep Neural Network"
   ]
  },
  {
   "cell_type": "markdown",
   "metadata": {},
   "source": [
    "Finally, we will build a neural network to try to solve our problem."
   ]
  },
  {
   "cell_type": "code",
   "execution_count": 49,
   "metadata": {},
   "outputs": [],
   "source": [
    "import keras\n",
    "from keras.models import Sequential\n",
    "from keras.layers import Dense\n",
    "from time import time\n",
    "from keras.callbacks import TensorBoard\n",
    "from google.datalab.ml import TensorBoard as tb # if running from a Google Cloud Platform Datalab\n",
    "\n",
    "regressor = Sequential()\n",
    "regressor.add(Dense(kernel_initializer = 'normal', activation = 'relu', input_dim = 55, units = 28))\n",
    "regressor.add(Dense(kernel_initializer = 'normal', activation = 'relu', input_dim = 28, units = 12))\n",
    "regressor.add(Dense(kernel_initializer = 'normal', activation = 'relu', input_dim = 12, units = 6))\n",
    "regressor.add(Dense(kernel_initializer = 'normal', input_dim = 6, units = 1))\n",
    "# Compiling the ANN\n",
    "regressor.compile(optimizer = 'adam', loss = 'mean_absolute_error')"
   ]
  },
  {
   "cell_type": "markdown",
   "metadata": {},
   "source": [
    "Let's test the deep neural network and look a its performance."
   ]
  },
  {
   "cell_type": "code",
   "execution_count": 50,
   "metadata": {},
   "outputs": [
    {
     "name": "stdout",
     "output_type": "stream",
     "text": [
      "Epoch 1/10\n",
      "47904/47904 [==============================] - 6s 116us/step - loss: 55.8660\n",
      "Epoch 2/10\n",
      "47904/47904 [==============================] - 5s 114us/step - loss: 51.6750\n",
      "Epoch 3/10\n",
      "47904/47904 [==============================] - 6s 115us/step - loss: 51.4946\n",
      "Epoch 4/10\n",
      "47904/47904 [==============================] - 6s 115us/step - loss: 51.4124\n",
      "Epoch 5/10\n",
      "47904/47904 [==============================] - 5s 113us/step - loss: 51.3509\n",
      "Epoch 6/10\n",
      "47904/47904 [==============================] - 5s 113us/step - loss: 51.2814\n",
      "Epoch 7/10\n",
      "47904/47904 [==============================] - 5s 115us/step - loss: 51.2591\n",
      "Epoch 8/10\n",
      "47904/47904 [==============================] - 6s 127us/step - loss: 51.2701\n",
      "Epoch 9/10\n",
      "47904/47904 [==============================] - 5s 114us/step - loss: 51.2067\n",
      "Epoch 10/10\n",
      "47904/47904 [==============================] - 5s 113us/step - loss: 51.2242\n",
      "Training MAE: 51.03799759409949\n",
      "Test MAE: 49.01466411241179\n"
     ]
    }
   ],
   "source": [
    "tensorboard = TensorBoard(log_dir=\"logs/{}\".format(time()))\n",
    "regressor.fit(X_train, y_train, batch_size = 10, epochs = 10, callbacks=[tensorboard])\n",
    "y_pred = regressor.predict(X_test)\n",
    "y_train_pred = regressor.predict(X_train)\n",
    "dnn_training_mae = mean_absolute_error(y_train_pred, y_train)\n",
    "dnn_test_mae = mean_absolute_error(y_pred,y_test)\n",
    "print('Training MAE: {}\\nTest MAE: {}'.format(dnn_training_mae, dnn_test_mae))"
   ]
  },
  {
   "cell_type": "code",
   "execution_count": null,
   "metadata": {},
   "outputs": [],
   "source": [
    "tb.start('./logs') # Only start if it has not been started yet"
   ]
  },
  {
   "cell_type": "markdown",
   "metadata": {},
   "source": [
    "As we can see, our Deep Neural Network regressor achieves really good results: 49 for our test set, which is even better than the Random Forest regressor (50). Nevertheless, the DNN quickly achieved this level of precision, which means that feeding it more data will not necessarily improve its performance."
   ]
  },
  {
   "cell_type": "markdown",
   "metadata": {},
   "source": [
    "# Conclusion"
   ]
  },
  {
   "cell_type": "markdown",
   "metadata": {},
   "source": [
    "After selecting relevent data and preprocessing it, we used it to train four models:\n",
    "- Linear Regression\n",
    "- Polynomial Regression\n",
    "- Random Forest Regression\n",
    "- Deep Neural Network Regression"
   ]
  },
  {
   "cell_type": "markdown",
   "metadata": {},
   "source": [
    "We compared these models between one another and with a simple rule of thumb (predicting the price of an Airbnb flat by using the mean price in Paris).\n",
    "We obtained the following results:"
   ]
  },
  {
   "cell_type": "markdown",
   "metadata": {},
   "source": [
    "| Rule of thumb | Linear Regression | Polynomial Regression | Random Forest Regression | Deep Neural Network Regression |\n",
    "|---------------|-------------------|-----------------------|--------------------------|--------------------------------|\n",
    "|      77       |        60         |          54           |           51             |              49                |"
   ]
  },
  {
   "cell_type": "markdown",
   "metadata": {},
   "source": [
    "The Deep Neural Network Regression currently offers the best results, but the Random Forest Regression, with a training error of only 20, might be the machine learning model with the best room for improvement."
   ]
  }
 ],
 "metadata": {
  "kernelspec": {
   "display_name": "Python 3",
   "language": "python",
   "name": "python3"
  },
  "language_info": {
   "codemirror_mode": {
    "name": "ipython",
    "version": 3
   },
   "file_extension": ".py",
   "mimetype": "text/x-python",
   "name": "python",
   "nbconvert_exporter": "python",
   "pygments_lexer": "ipython3",
   "version": "3.5.6"
  }
 },
 "nbformat": 4,
 "nbformat_minor": 2
}
