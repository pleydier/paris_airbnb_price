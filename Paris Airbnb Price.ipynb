{
 "cells": [
  {
   "cell_type": "markdown",
   "metadata": {},
   "source": [
    "# Paris Airbnb Price\n",
    "\n",
    "How much should I rent my flat per night?\n",
    "\n",
    "I use linear regression for predicting the night price of an appartment on Airbnb.\n",
    "The dataset is available at http://insideairbnb.com/get-the-data.html under a Creative Commons CC0 1.0 Universal (CC0 1.0) \"Public Domain Dedication\" license."
   ]
  },
  {
   "cell_type": "markdown",
   "metadata": {},
   "source": [
    "## 1.Data Preprocessing\n",
    "If the data file is not uncompressed yet, we have to uncompress it."
   ]
  },
  {
   "cell_type": "code",
   "execution_count": null,
   "metadata": {},
   "outputs": [],
   "source": [
    "#import gzip\n",
    "#import shutil\n",
    "#with gzip.open('data/listing.csv.gz', 'rb') as f_in:\n",
    "#    with open('data/listing.csv', 'wb') as f_out:\n",
    "#        shutil.copyfileobj(f_in, f_out)"
   ]
  },
  {
   "cell_type": "markdown",
   "metadata": {},
   "source": [
    "If Keras is not installed, install it (and reset the session if on a Google Cloud Datalab)."
   ]
  },
  {
   "cell_type": "code",
   "execution_count": null,
   "metadata": {},
   "outputs": [],
   "source": [
    "!pip3 install keras\n",
    "!pip install Tensorboard"
   ]
  },
  {
   "cell_type": "markdown",
   "metadata": {},
   "source": [
    "First, we import the required libraries"
   ]
  },
  {
   "cell_type": "code",
   "execution_count": null,
   "metadata": {},
   "outputs": [],
   "source": [
    "import numpy as np\n",
    "import matplotlib.pyplot as plt\n",
    "import pandas as pd\n",
    "from sklearn.model_selection import train_test_split\n",
    "from sklearn.preprocessing import Imputer\n",
    "from sklearn.preprocessing import LabelEncoder, OneHotEncoder\n",
    "from sklearn.linear_model import LinearRegression\n",
    "from sklearn.metrics import mean_squared_error\n",
    "from math import sqrt\n",
    "from sklearn.preprocessing import PolynomialFeatures\n",
    "import keras\n",
    "from keras.models import Sequential\n",
    "from keras.layers import Dense\n",
    "from time import time\n",
    "from keras.callbacks import TensorBoard\n",
    "from google.datalab.ml import TensorBoard as tb # if running from a Google Cloud Platform Datalab"
   ]
  },
  {
   "cell_type": "markdown",
   "metadata": {},
   "source": [
    "Then, we import the dataset and have a look at it."
   ]
  },
  {
   "cell_type": "code",
   "execution_count": 2,
   "metadata": {},
   "outputs": [
    {
     "name": "stdout",
     "output_type": "stream",
     "text": [
      "Index(['id', 'listing_url', 'scrape_id', 'last_scraped', 'name', 'summary',\n",
      "       'space', 'description', 'experiences_offered', 'neighborhood_overview',\n",
      "       'notes', 'transit', 'access', 'interaction', 'house_rules',\n",
      "       'thumbnail_url', 'medium_url', 'picture_url', 'xl_picture_url',\n",
      "       'host_id', 'host_url', 'host_name', 'host_since', 'host_location',\n",
      "       'host_about', 'host_response_time', 'host_response_rate',\n",
      "       'host_acceptance_rate', 'host_is_superhost', 'host_thumbnail_url',\n",
      "       'host_picture_url', 'host_neighbourhood', 'host_listings_count',\n",
      "       'host_total_listings_count', 'host_verifications',\n",
      "       'host_has_profile_pic', 'host_identity_verified', 'street',\n",
      "       'neighbourhood', 'neighbourhood_cleansed',\n",
      "       'neighbourhood_group_cleansed', 'city', 'state', 'zipcode', 'market',\n",
      "       'smart_location', 'country_code', 'country', 'latitude', 'longitude',\n",
      "       'is_location_exact', 'property_type', 'room_type', 'accommodates',\n",
      "       'bathrooms', 'bedrooms', 'beds', 'bed_type', 'amenities', 'square_feet',\n",
      "       'price', 'weekly_price', 'monthly_price', 'security_deposit',\n",
      "       'cleaning_fee', 'guests_included', 'extra_people', 'minimum_nights',\n",
      "       'maximum_nights', 'calendar_updated', 'has_availability',\n",
      "       'availability_30', 'availability_60', 'availability_90',\n",
      "       'availability_365', 'calendar_last_scraped', 'number_of_reviews',\n",
      "       'first_review', 'last_review', 'review_scores_rating',\n",
      "       'review_scores_accuracy', 'review_scores_cleanliness',\n",
      "       'review_scores_checkin', 'review_scores_communication',\n",
      "       'review_scores_location', 'review_scores_value', 'requires_license',\n",
      "       'license', 'jurisdiction_names', 'instant_bookable',\n",
      "       'is_business_travel_ready', 'cancellation_policy',\n",
      "       'require_guest_profile_picture', 'require_guest_phone_verification',\n",
      "       'calculated_host_listings_count', 'reviews_per_month'],\n",
      "      dtype='object')\n",
      "(59881, 96)\n"
     ]
    }
   ],
   "source": [
    "dataset = pd.read_csv('data/listings.csv', low_memory=False)\n",
    "print(dataset.columns)\n",
    "print(dataset.shape)"
   ]
  },
  {
   "cell_type": "markdown",
   "metadata": {},
   "source": [
    "There are a lot of variable. 96 to be exact.\n",
    "Let's keep only the relevant ones, as well as the dependent variable: the price per night!"
   ]
  },
  {
   "cell_type": "code",
   "execution_count": 3,
   "metadata": {},
   "outputs": [
    {
     "data": {
      "text/html": [
       "<div>\n",
       "<style scoped>\n",
       "    .dataframe tbody tr th:only-of-type {\n",
       "        vertical-align: middle;\n",
       "    }\n",
       "\n",
       "    .dataframe tbody tr th {\n",
       "        vertical-align: top;\n",
       "    }\n",
       "\n",
       "    .dataframe thead th {\n",
       "        text-align: right;\n",
       "    }\n",
       "</style>\n",
       "<table border=\"1\" class=\"dataframe\">\n",
       "  <thead>\n",
       "    <tr style=\"text-align: right;\">\n",
       "      <th></th>\n",
       "      <th>host_is_superhost</th>\n",
       "      <th>neighbourhood</th>\n",
       "      <th>zipcode</th>\n",
       "      <th>latitude</th>\n",
       "      <th>longitude</th>\n",
       "      <th>property_type</th>\n",
       "      <th>room_type</th>\n",
       "      <th>accommodates</th>\n",
       "      <th>bathrooms</th>\n",
       "      <th>bedrooms</th>\n",
       "      <th>...</th>\n",
       "      <th>monthly_price</th>\n",
       "      <th>cleaning_fee</th>\n",
       "      <th>number_of_reviews</th>\n",
       "      <th>review_scores_rating</th>\n",
       "      <th>review_scores_accuracy</th>\n",
       "      <th>review_scores_cleanliness</th>\n",
       "      <th>review_scores_checkin</th>\n",
       "      <th>review_scores_communication</th>\n",
       "      <th>review_scores_location</th>\n",
       "      <th>review_scores_value</th>\n",
       "    </tr>\n",
       "  </thead>\n",
       "  <tbody>\n",
       "    <tr>\n",
       "      <th>0</th>\n",
       "      <td>f</td>\n",
       "      <td>République</td>\n",
       "      <td>75010</td>\n",
       "      <td>48.869933</td>\n",
       "      <td>2.362511</td>\n",
       "      <td>Loft</td>\n",
       "      <td>Entire home/apt</td>\n",
       "      <td>4</td>\n",
       "      <td>2.0</td>\n",
       "      <td>2.0</td>\n",
       "      <td>...</td>\n",
       "      <td>NaN</td>\n",
       "      <td>$40.00</td>\n",
       "      <td>0</td>\n",
       "      <td>NaN</td>\n",
       "      <td>NaN</td>\n",
       "      <td>NaN</td>\n",
       "      <td>NaN</td>\n",
       "      <td>NaN</td>\n",
       "      <td>NaN</td>\n",
       "      <td>NaN</td>\n",
       "    </tr>\n",
       "    <tr>\n",
       "      <th>1</th>\n",
       "      <td>f</td>\n",
       "      <td>Alésia</td>\n",
       "      <td>75014</td>\n",
       "      <td>48.833494</td>\n",
       "      <td>2.318518</td>\n",
       "      <td>Apartment</td>\n",
       "      <td>Entire home/apt</td>\n",
       "      <td>2</td>\n",
       "      <td>1.0</td>\n",
       "      <td>1.0</td>\n",
       "      <td>...</td>\n",
       "      <td>NaN</td>\n",
       "      <td>$50.00</td>\n",
       "      <td>7</td>\n",
       "      <td>100.0</td>\n",
       "      <td>10.0</td>\n",
       "      <td>10.0</td>\n",
       "      <td>10.0</td>\n",
       "      <td>10.0</td>\n",
       "      <td>10.0</td>\n",
       "      <td>10.0</td>\n",
       "    </tr>\n",
       "    <tr>\n",
       "      <th>2</th>\n",
       "      <td>f</td>\n",
       "      <td>Saint-Paul - Ile Saint-Louis</td>\n",
       "      <td>75004</td>\n",
       "      <td>48.851001</td>\n",
       "      <td>2.358690</td>\n",
       "      <td>Apartment</td>\n",
       "      <td>Entire home/apt</td>\n",
       "      <td>2</td>\n",
       "      <td>1.0</td>\n",
       "      <td>0.0</td>\n",
       "      <td>...</td>\n",
       "      <td>$2,000.00</td>\n",
       "      <td>$36.00</td>\n",
       "      <td>148</td>\n",
       "      <td>94.0</td>\n",
       "      <td>9.0</td>\n",
       "      <td>9.0</td>\n",
       "      <td>10.0</td>\n",
       "      <td>10.0</td>\n",
       "      <td>10.0</td>\n",
       "      <td>10.0</td>\n",
       "    </tr>\n",
       "    <tr>\n",
       "      <th>3</th>\n",
       "      <td>t</td>\n",
       "      <td>Le Marais</td>\n",
       "      <td>75004</td>\n",
       "      <td>48.857576</td>\n",
       "      <td>2.352751</td>\n",
       "      <td>Apartment</td>\n",
       "      <td>Entire home/apt</td>\n",
       "      <td>4</td>\n",
       "      <td>1.0</td>\n",
       "      <td>2.0</td>\n",
       "      <td>...</td>\n",
       "      <td>$2,200.00</td>\n",
       "      <td>$50.00</td>\n",
       "      <td>231</td>\n",
       "      <td>94.0</td>\n",
       "      <td>10.0</td>\n",
       "      <td>9.0</td>\n",
       "      <td>10.0</td>\n",
       "      <td>10.0</td>\n",
       "      <td>10.0</td>\n",
       "      <td>9.0</td>\n",
       "    </tr>\n",
       "    <tr>\n",
       "      <th>4</th>\n",
       "      <td>f</td>\n",
       "      <td>Gare du Nord - Gare de I'Est</td>\n",
       "      <td>75009</td>\n",
       "      <td>48.874642</td>\n",
       "      <td>2.343411</td>\n",
       "      <td>Apartment</td>\n",
       "      <td>Entire home/apt</td>\n",
       "      <td>2</td>\n",
       "      <td>1.0</td>\n",
       "      <td>2.0</td>\n",
       "      <td>...</td>\n",
       "      <td>NaN</td>\n",
       "      <td>$60.00</td>\n",
       "      <td>6</td>\n",
       "      <td>96.0</td>\n",
       "      <td>10.0</td>\n",
       "      <td>10.0</td>\n",
       "      <td>10.0</td>\n",
       "      <td>10.0</td>\n",
       "      <td>10.0</td>\n",
       "      <td>10.0</td>\n",
       "    </tr>\n",
       "  </tbody>\n",
       "</table>\n",
       "<p>5 rows × 26 columns</p>\n",
       "</div>"
      ],
      "text/plain": [
       "  host_is_superhost                 neighbourhood zipcode   latitude  \\\n",
       "0                 f                    République   75010  48.869933   \n",
       "1                 f                        Alésia   75014  48.833494   \n",
       "2                 f  Saint-Paul - Ile Saint-Louis   75004  48.851001   \n",
       "3                 t                     Le Marais   75004  48.857576   \n",
       "4                 f  Gare du Nord - Gare de I'Est   75009  48.874642   \n",
       "\n",
       "   longitude property_type        room_type  accommodates  bathrooms  \\\n",
       "0   2.362511          Loft  Entire home/apt             4        2.0   \n",
       "1   2.318518     Apartment  Entire home/apt             2        1.0   \n",
       "2   2.358690     Apartment  Entire home/apt             2        1.0   \n",
       "3   2.352751     Apartment  Entire home/apt             4        1.0   \n",
       "4   2.343411     Apartment  Entire home/apt             2        1.0   \n",
       "\n",
       "   bedrooms         ...           monthly_price cleaning_fee  \\\n",
       "0       2.0         ...                     NaN       $40.00   \n",
       "1       1.0         ...                     NaN       $50.00   \n",
       "2       0.0         ...               $2,000.00       $36.00   \n",
       "3       2.0         ...               $2,200.00       $50.00   \n",
       "4       2.0         ...                     NaN       $60.00   \n",
       "\n",
       "  number_of_reviews  review_scores_rating review_scores_accuracy  \\\n",
       "0                 0                   NaN                    NaN   \n",
       "1                 7                 100.0                   10.0   \n",
       "2               148                  94.0                    9.0   \n",
       "3               231                  94.0                   10.0   \n",
       "4                 6                  96.0                   10.0   \n",
       "\n",
       "  review_scores_cleanliness review_scores_checkin review_scores_communication  \\\n",
       "0                       NaN                   NaN                         NaN   \n",
       "1                      10.0                  10.0                        10.0   \n",
       "2                       9.0                  10.0                        10.0   \n",
       "3                       9.0                  10.0                        10.0   \n",
       "4                      10.0                  10.0                        10.0   \n",
       "\n",
       "   review_scores_location  review_scores_value  \n",
       "0                     NaN                  NaN  \n",
       "1                    10.0                 10.0  \n",
       "2                    10.0                 10.0  \n",
       "3                    10.0                  9.0  \n",
       "4                    10.0                 10.0  \n",
       "\n",
       "[5 rows x 26 columns]"
      ]
     },
     "execution_count": 3,
     "metadata": {},
     "output_type": "execute_result"
    }
   ],
   "source": [
    "dataset = dataset[['host_is_superhost','neighbourhood','zipcode','latitude','longitude','property_type',\n",
    "                   'room_type','accommodates','bathrooms','bedrooms','beds','bed_type','amenities','square_feet','price',\n",
    "                   'weekly_price','monthly_price','cleaning_fee','number_of_reviews','review_scores_rating',\n",
    "                   'review_scores_accuracy','review_scores_cleanliness','review_scores_checkin',\n",
    "                   'review_scores_communication','review_scores_location','review_scores_value']]\n",
    "dataset.iloc[:5,:]"
   ]
  },
  {
   "cell_type": "markdown",
   "metadata": {},
   "source": [
    "These variables are interesting, but we could do better.\n",
    "- Some of these are directly related (neighbourhood and zipcode directly depends of latitude and longitude / global review score depends on the other review scores).\n",
    "- Amenities are a bit difficult to treat for a first version of the algorithm.\n",
    "- Square feet field is rarely completed\n",
    "- Prices are treated as strings because they contain the '$' character.\n",
    "- Weekly and Monthly prices are not always available and we should for now keep these appart.\n",
    "- We are going to predict the total price which is composed of the price added the cleaning fee.\n",
    "- When there is no review, the other review variables are considered 'Nan'.\n",
    "- Sometimes, the other review variables are 'NaN' even though there are reviews."
   ]
  },
  {
   "cell_type": "code",
   "execution_count": 4,
   "metadata": {},
   "outputs": [],
   "source": [
    "dataset = dataset.drop(columns=['neighbourhood','zipcode','amenities','square_feet','weekly_price','monthly_price','review_scores_rating'])\n",
    "dataset['price'] = dataset['price'].replace('[\\$,]', '', regex=True).astype(float) + dataset['cleaning_fee'].replace('[\\$,]', '', regex=True).astype(float)\n",
    "dataset = dataset.drop(columns=['cleaning_fee'])\n",
    "#Reordering the columns\n",
    "dataset = dataset[['host_is_superhost', 'property_type','room_type','bed_type','latitude','longitude','accommodates','bathrooms','bedrooms','number_of_reviews','review_scores_accuracy','review_scores_cleanliness','review_scores_checkin','review_scores_communication','review_scores_location','review_scores_value','price']]\n",
    "dataset = dataset.dropna(subset=['price'])\n",
    "#Splitting X and y\n",
    "X = dataset.drop('price',axis='columns')\n",
    "y = dataset['price']"
   ]
  },
  {
   "cell_type": "code",
   "execution_count": 5,
   "metadata": {},
   "outputs": [],
   "source": [
    "#Replacing \"NaN\" values of numerical variables\n",
    "X_numerical = X.values[:,4:]\n",
    "imputer = Imputer(missing_values = 'NaN', strategy = 'mean', axis = 0)\n",
    "imputer = imputer.fit(X_numerical)\n",
    "X_numerical = imputer.transform(X_numerical)"
   ]
  },
  {
   "cell_type": "code",
   "execution_count": 6,
   "metadata": {},
   "outputs": [],
   "source": [
    "# Encoding the categorical data\n",
    "X[['host_is_superhost', 'property_type','room_type','bed_type']] = X[['host_is_superhost', 'property_type','room_type','bed_type']].astype('str').apply(LabelEncoder().fit_transform)"
   ]
  },
  {
   "cell_type": "code",
   "execution_count": 7,
   "metadata": {},
   "outputs": [],
   "source": [
    "X_categorical = X.values[:,0:3].astype('int64')\n",
    "onehotencoder = OneHotEncoder()\n",
    "X_categorical = onehotencoder.fit_transform(X_categorical).toarray()\n",
    "X = np.append(X_categorical,X_numerical, axis=1)"
   ]
  },
  {
   "cell_type": "markdown",
   "metadata": {},
   "source": [
    "Looks better! Now let's split the dataset between dependent, independent variables and training and test sets.\n",
    "We should also encode the categorical data, or, for now, exclude it."
   ]
  },
  {
   "cell_type": "code",
   "execution_count": 9,
   "metadata": {},
   "outputs": [],
   "source": [
    "# Splitting the dataset into the Training set and Test set\n",
    "X_train, X_test, y_train, y_test = train_test_split(X, y, test_size = 0.2)\n",
    "y_train = y_train.values\n",
    "y_test = y_test.values"
   ]
  },
  {
   "cell_type": "markdown",
   "metadata": {},
   "source": [
    "Our data has been cleaned. Let's build some machine learning models!\n",
    "# 2. Models"
   ]
  },
  {
   "cell_type": "markdown",
   "metadata": {},
   "source": [
    "## 2.1. Linear Regression\n",
    "Let's build a Linear Regression model!"
   ]
  },
  {
   "cell_type": "code",
   "execution_count": 10,
   "metadata": {
    "codeCollapsed": false
   },
   "outputs": [],
   "source": [
    "def linear_regression(X_train, y_train, X_test, y_test):\n",
    "    # Fitting Simple Linear Regression to the Training set\n",
    "    regressor = LinearRegression()\n",
    "    regressor.fit(X_train, y_train)\n",
    "    train_rmse = sqrt(mean_squared_error(regressor.predict(X_train),y_train))\n",
    "    test_rmse = sqrt(mean_squared_error(regressor.predict(X_test),y_test))\n",
    "    return train_rmse, test_rmse"
   ]
  },
  {
   "cell_type": "markdown",
   "metadata": {},
   "source": [
    "Now that our model is build, we can evaluate it and see the evolution of its training and test losses depending on the dataset size."
   ]
  },
  {
   "cell_type": "code",
   "execution_count": 11,
   "metadata": {},
   "outputs": [],
   "source": [
    "lr_eval = pd.DataFrame(0, index=range(100), columns=['train rmse', 'test rmse'])\n",
    "for i in range(100):\n",
    "  subset_size = int(round(((i+1)*X_train.shape[0]/100)))\n",
    "  [lr_eval.values[i,0],lr_eval.values[i,1]] = linear_regression(X_train[:subset_size,:],y_train[:subset_size], X_test, y_test)"
   ]
  },
  {
   "cell_type": "code",
   "execution_count": 12,
   "metadata": {},
   "outputs": [
    {
     "name": "stderr",
     "output_type": "stream",
     "text": [
      "/usr/local/envs/py3env/lib/python3.5/site-packages/matplotlib/font_manager.py:1320: UserWarning: findfont: Font family ['sans-serif'] not found. Falling back to DejaVu Sans\n",
      "  (prop.get_family(), self.defaultFamily[fontext]))\n"
     ]
    },
    {
     "data": {
      "image/png": "[encoded data removed]",
      "text/plain": [
       "<matplotlib.figure.Figure at 0x7f959f388d30>"
      ]
     },
     "metadata": {},
     "output_type": "display_data"
    }
   ],
   "source": [
    "plt.gca().set_ylim([75,200])\n",
    "plt.plot(lr_eval['train rmse'], label='Training RMSE')\n",
    "plt.plot(lr_eval['test rmse'], label='Test RMSE')\n",
    "plt.show()"
   ]
  },
  {
   "cell_type": "markdown",
   "metadata": {},
   "source": [
    "As we can see, there is a large gap between our training set results and our test set results.\n",
    "There is a high variance problem, which we might be able to solve by getting more data."
   ]
  },
  {
   "cell_type": "markdown",
   "metadata": {},
   "source": [
    "Nevertheless, our training and test set results do not seem to be able to converge more if we keep using this algorithm.\n",
    "One solution might be to use a smaller set of features, by selecting only the numerical ones."
   ]
  },
  {
   "cell_type": "code",
   "execution_count": 13,
   "metadata": {},
   "outputs": [],
   "source": [
    "X_num_train, X_num_test, y_num_train, y_num_test = train_test_split(X_numerical, y, test_size = 0.2)"
   ]
  },
  {
   "cell_type": "code",
   "execution_count": 14,
   "metadata": {},
   "outputs": [],
   "source": [
    "lr_num_eval = pd.DataFrame(0, index=range(100), columns=['train rmse', 'test rmse'])\n",
    "for i in range(100):\n",
    "  subset_size = int(round(((i+1)*X_num_train.shape[0]/100)))\n",
    "  [lr_num_eval.values[i,0],lr_num_eval.values[i,1]] = linear_regression(X_num_train[:subset_size,:],y_num_train[:subset_size], X_num_test, y_num_test)"
   ]
  },
  {
   "cell_type": "markdown",
   "metadata": {},
   "source": [
    "Now, let's see the results!"
   ]
  },
  {
   "cell_type": "code",
   "execution_count": 15,
   "metadata": {},
   "outputs": [
    {
     "name": "stderr",
     "output_type": "stream",
     "text": [
      "/usr/local/envs/py3env/lib/python3.5/site-packages/matplotlib/font_manager.py:1320: UserWarning: findfont: Font family ['sans-serif'] not found. Falling back to DejaVu Sans\n",
      "  (prop.get_family(), self.defaultFamily[fontext]))\n"
     ]
    },
    {
     "data": {
      "image/png": "[encoded data removed]",
      "text/plain": [
       "<matplotlib.figure.Figure at 0x7f959ffe79b0>"
      ]
     },
     "metadata": {},
     "output_type": "display_data"
    }
   ],
   "source": [
    "plt.gca().set_ylim([75,200])\n",
    "plt.plot(lr_num_eval['train rmse'], label='Training RMSE')\n",
    "plt.plot(lr_num_eval['test rmse'], label='Test RMSE')\n",
    "plt.show()"
   ]
  },
  {
   "cell_type": "markdown",
   "metadata": {},
   "source": [
    "## 2.2 Polynomial Regression\n",
    "Maybe a polynomial model is more adapted to this problem?"
   ]
  },
  {
   "cell_type": "code",
   "execution_count": 27,
   "metadata": {},
   "outputs": [],
   "source": [
    "def polynomial_regression(X_train,y_train,X_test,y_test, polynomial_degree):\n",
    "  polynomialFeatures = PolynomialFeatures(degree = polynomial_degree)\n",
    "  X_train_poly = polynomialFeatures.fit_transform(X_train)\n",
    "  polynomialFeatures.fit(X_train_poly, y_train)\n",
    "  polynomial_regressor = LinearRegression()\n",
    "  polynomial_regressor.fit(X_train_poly, y_train)\n",
    "  train_rmse = sqrt(mean_squared_error(polynomial_regressor.predict(X_train_poly),y_train))\n",
    "  test_rmse = sqrt(mean_squared_error(polynomial_regressor.predict(polynomialFeatures.fit_transform(X_test)),y_test))\n",
    "  return train_rmse,test_rmse"
   ]
  },
  {
   "cell_type": "code",
   "execution_count": 17,
   "metadata": {},
   "outputs": [
    {
     "name": "stdout",
     "output_type": "stream",
     "text": [
      "Polynomial Regression n°1/10\n",
      "Polynomial Regression n°2/10\n",
      "Polynomial Regression n°3/10\n",
      "Polynomial Regression n°4/10\n",
      "Polynomial Regression n°5/10\n",
      "Polynomial Regression n°6/10\n",
      "Polynomial Regression n°7/10\n",
      "Polynomial Regression n°8/10\n",
      "Polynomial Regression n°9/10\n",
      "Polynomial Regression n°10/10\n"
     ]
    }
   ],
   "source": [
    "pl_eval = pd.DataFrame(0, index=range(10), columns=['train rmse', 'test rmse'])\n",
    "for i in range(10):\n",
    "  print('Polynomial Regression n°{}/10'.format(i+1))\n",
    "  subset_size = int(round(((i+1)*X_train.shape[0]/10)))\n",
    "  [pl_eval.values[i,0],pl_eval.values[i,1]] = polynomial_regression(X_train[:subset_size,:],y_train[:subset_size], X_test, y_test, polynomial_degree = 2)"
   ]
  },
  {
   "cell_type": "code",
   "execution_count": 28,
   "metadata": {},
   "outputs": [
    {
     "name": "stderr",
     "output_type": "stream",
     "text": [
      "/usr/local/envs/py3env/lib/python3.5/site-packages/matplotlib/font_manager.py:1320: UserWarning: findfont: Font family ['sans-serif'] not found. Falling back to DejaVu Sans\n",
      "  (prop.get_family(), self.defaultFamily[fontext]))\n"
     ]
    },
    {
     "data": {
      "image/png": "[encoded data removed]",
      "text/plain": [
       "<matplotlib.figure.Figure at 0x7f95a7554b38>"
      ]
     },
     "metadata": {},
     "output_type": "display_data"
    }
   ],
   "source": [
    "plt.gca().set_ylim([0,1000])\n",
    "plt.plot(pl_eval['train rmse'], label='Training RMSE')\n",
    "plt.plot(pl_eval['test rmse'], label='Test RMSE')\n",
    "plt.show()"
   ]
  },
  {
   "cell_type": "markdown",
   "metadata": {},
   "source": [
    "This is obviously not right. We should try:\n",
    "- Reducing the set of features\n",
    "- Increasing the polynomial degree"
   ]
  },
  {
   "cell_type": "code",
   "execution_count": 34,
   "metadata": {},
   "outputs": [
    {
     "name": "stdout",
     "output_type": "stream",
     "text": [
      "Polynomial Regression n°1/10...\n",
      "Polynomial Regression n°2/10...\n",
      "Polynomial Regression n°3/10...\n",
      "Polynomial Regression n°4/10...\n",
      "Polynomial Regression n°5/10...\n",
      "Polynomial Regression n°6/10...\n",
      "Polynomial Regression n°7/10...\n",
      "Polynomial Regression n°8/10...\n",
      "Polynomial Regression n°9/10...\n",
      "Polynomial Regression n°10/10...\n"
     ]
    }
   ],
   "source": [
    "pl_num_eval = pd.DataFrame(0, index=range(10), columns=['train rmse', 'test rmse'])\n",
    "for i in range(10):\n",
    "  print('Polynomial Regression n°{}/10...'.format(i+1))\n",
    "  subset_size = int(round(((i+1)*X_num_train.shape[0]/10)))\n",
    "  [pl_num_eval.values[i,0],pl_num_eval.values[i,1]] = polynomial_regression(X_num_train[:subset_size,:],y_num_train[:subset_size], X_num_test, y_num_test, polynomial_degree = 3)"
   ]
  },
  {
   "cell_type": "code",
   "execution_count": 37,
   "metadata": {},
   "outputs": [
    {
     "name": "stderr",
     "output_type": "stream",
     "text": [
      "/usr/local/envs/py3env/lib/python3.5/site-packages/matplotlib/font_manager.py:1320: UserWarning: findfont: Font family ['sans-serif'] not found. Falling back to DejaVu Sans\n",
      "  (prop.get_family(), self.defaultFamily[fontext]))\n"
     ]
    },
    {
     "data": {
      "image/png": "[encoded data removed]",
      "text/plain": [
       "<matplotlib.figure.Figure at 0x7f95a6b5eda0>"
      ]
     },
     "metadata": {},
     "output_type": "display_data"
    }
   ],
   "source": [
    "plt.gca().set_ylim([0,200])\n",
    "plt.plot(pl_num_eval['train rmse'], label='Training RMSE')\n",
    "plt.plot(pl_num_eval['test rmse'], label='Test RMSE')\n",
    "plt.show()"
   ]
  },
  {
   "cell_type": "markdown",
   "metadata": {},
   "source": [
    "This result looks better.\n",
    "As we can see, the test and train errors are now converging, which suggest a high bias problem for this algorithm."
   ]
  },
  {
   "cell_type": "markdown",
   "metadata": {},
   "source": [
    "In order to improve the machine learning predictions, we could try:\n",
    "- Finding new, relevant, features.\n",
    "- Increasing further the polynomial degree\n",
    "- Decreasing lambda, so that the polynomial regression underfits less the training data"
   ]
  },
  {
   "cell_type": "markdown",
   "metadata": {},
   "source": [
    "## 2.3 Deep Neural Network"
   ]
  },
  {
   "cell_type": "markdown",
   "metadata": {},
   "source": [
    "Building the Neural Network."
   ]
  },
  {
   "cell_type": "code",
   "execution_count": 38,
   "metadata": {},
   "outputs": [],
   "source": [
    "regressor = Sequential()\n",
    "regressor.add(Dense(kernel_initializer = 'normal', activation = 'relu', input_dim = 46, units = 96))\n",
    "regressor.add(Dense(kernel_initializer = 'normal', activation = 'relu', input_dim = 96, units = 30))\n",
    "regressor.add(Dense(kernel_initializer = 'normal', input_dim = 30, units = 1))\n",
    "# Compiling the ANN\n",
    "regressor.compile(optimizer = 'adam', loss = 'mean_squared_error')"
   ]
  },
  {
   "cell_type": "markdown",
   "metadata": {},
   "source": [
    "Training the Neural Network."
   ]
  },
  {
   "cell_type": "code",
   "execution_count": 39,
   "metadata": {},
   "outputs": [
    {
     "name": "stdout",
     "output_type": "stream",
     "text": [
      "Epoch 1/50\n",
      "34495/34495 [==============================] - 4s 104us/step - loss: 15074.1663\n",
      "Epoch 2/50\n",
      "34495/34495 [==============================] - 4s 103us/step - loss: 13008.5314\n",
      "Epoch 3/50\n",
      "34495/34495 [==============================] - 4s 120us/step - loss: 12589.5356\n",
      "Epoch 4/50\n",
      "34495/34495 [==============================] - 4s 105us/step - loss: 12264.1795\n",
      "Epoch 5/50\n",
      "34495/34495 [==============================] - 4s 102us/step - loss: 11914.5273\n",
      "Epoch 6/50\n",
      "34495/34495 [==============================] - 3s 100us/step - loss: 11584.4713\n",
      "Epoch 7/50\n",
      "34495/34495 [==============================] - 3s 100us/step - loss: 11374.8424\n",
      "Epoch 8/50\n",
      "34495/34495 [==============================] - 3s 101us/step - loss: 11269.5788\n",
      "Epoch 9/50\n",
      "34495/34495 [==============================] - 3s 100us/step - loss: 11176.6104\n",
      "Epoch 10/50\n",
      "34495/34495 [==============================] - 4s 104us/step - loss: 11072.8465\n",
      "Epoch 11/50\n",
      "34495/34495 [==============================] - 3s 101us/step - loss: 11111.8307\n",
      "Epoch 12/50\n",
      "34495/34495 [==============================] - 4s 103us/step - loss: 11038.5010\n",
      "Epoch 13/50\n",
      "34495/34495 [==============================] - 4s 103us/step - loss: 11028.4787\n",
      "Epoch 14/50\n",
      "34495/34495 [==============================] - 3s 100us/step - loss: 10945.4763\n",
      "Epoch 15/50\n",
      "34495/34495 [==============================] - 3s 101us/step - loss: 10993.5670\n",
      "Epoch 16/50\n",
      "34495/34495 [==============================] - 4s 105us/step - loss: 10915.7794\n",
      "Epoch 17/50\n",
      "34495/34495 [==============================] - 4s 113us/step - loss: 10983.7593\n",
      "Epoch 18/50\n",
      "34495/34495 [==============================] - 4s 113us/step - loss: 10919.6805\n",
      "Epoch 19/50\n",
      "34495/34495 [==============================] - 4s 104us/step - loss: 10892.7664\n",
      "Epoch 20/50\n",
      "34495/34495 [==============================] - 3s 99us/step - loss: 10885.8497\n",
      "Epoch 21/50\n",
      "34495/34495 [==============================] - 3s 100us/step - loss: 10910.4239\n",
      "Epoch 22/50\n",
      "34495/34495 [==============================] - 4s 102us/step - loss: 10864.8199\n",
      "Epoch 23/50\n",
      "34495/34495 [==============================] - 3s 101us/step - loss: 10899.3323\n",
      "Epoch 24/50\n",
      "34495/34495 [==============================] - 3s 101us/step - loss: 10869.6074\n",
      "Epoch 25/50\n",
      "34495/34495 [==============================] - 3s 100us/step - loss: 10847.7005\n",
      "Epoch 26/50\n",
      "34495/34495 [==============================] - 4s 102us/step - loss: 10850.7254\n",
      "Epoch 27/50\n",
      "34495/34495 [==============================] - 4s 102us/step - loss: 10817.1743\n",
      "Epoch 28/50\n",
      "34495/34495 [==============================] - 4s 102us/step - loss: 10829.0412\n",
      "Epoch 29/50\n",
      "34495/34495 [==============================] - 3s 101us/step - loss: 10825.5383\n",
      "Epoch 30/50\n",
      "34495/34495 [==============================] - 3s 99us/step - loss: 10812.1213\n",
      "Epoch 31/50\n",
      "34495/34495 [==============================] - 3s 99us/step - loss: 10853.0544\n",
      "Epoch 32/50\n",
      "34495/34495 [==============================] - 3s 99us/step - loss: 10769.8759\n",
      "Epoch 33/50\n",
      "34495/34495 [==============================] - 3s 99us/step - loss: 10824.6321\n",
      "Epoch 34/50\n",
      "34495/34495 [==============================] - 4s 102us/step - loss: 10810.4678\n",
      "Epoch 35/50\n",
      "34495/34495 [==============================] - 4s 102us/step - loss: 10803.4596\n",
      "Epoch 36/50\n",
      "34495/34495 [==============================] - 4s 117us/step - loss: 10784.0648\n",
      "Epoch 37/50\n",
      "34495/34495 [==============================] - 3s 101us/step - loss: 10789.9926\n",
      "Epoch 38/50\n",
      "34495/34495 [==============================] - 4s 112us/step - loss: 10753.4409\n",
      "Epoch 39/50\n",
      "34495/34495 [==============================] - 4s 110us/step - loss: 10743.5946\n",
      "Epoch 40/50\n",
      "34495/34495 [==============================] - 3s 99us/step - loss: 10766.0271\n",
      "Epoch 41/50\n",
      "34495/34495 [==============================] - 3s 100us/step - loss: 10751.4780\n",
      "Epoch 42/50\n",
      "34495/34495 [==============================] - 3s 101us/step - loss: 10757.5010\n",
      "Epoch 43/50\n",
      "34495/34495 [==============================] - 4s 102us/step - loss: 10721.6894\n",
      "Epoch 44/50\n",
      "34495/34495 [==============================] - 4s 102us/step - loss: 10752.5852\n",
      "Epoch 45/50\n",
      "34495/34495 [==============================] - 3s 100us/step - loss: 10682.8666\n",
      "Epoch 46/50\n",
      "34495/34495 [==============================] - 3s 100us/step - loss: 10702.2464\n",
      "Epoch 47/50\n",
      "34495/34495 [==============================] - 3s 100us/step - loss: 10679.4245\n",
      "Epoch 48/50\n",
      "34495/34495 [==============================] - 3s 101us/step - loss: 10722.8637\n",
      "Epoch 49/50\n",
      "34495/34495 [==============================] - 3s 101us/step - loss: 10712.2325\n",
      "Epoch 50/50\n",
      "34495/34495 [==============================] - 3s 101us/step - loss: 10655.4198\n"
     ]
    },
    {
     "data": {
      "text/plain": [
       "<keras.callbacks.History at 0x7f95a6b54240>"
      ]
     },
     "execution_count": 39,
     "metadata": {},
     "output_type": "execute_result"
    }
   ],
   "source": [
    "tensorboard = TensorBoard(log_dir=\"logs/{}\".format(time()))\n",
    "regressor.fit(X_train, y_train, batch_size = 10, epochs = 50, callbacks=[tensorboard])"
   ]
  },
  {
   "cell_type": "markdown",
   "metadata": {},
   "source": [
    "Let's evaluate the model!"
   ]
  },
  {
   "cell_type": "code",
   "execution_count": 40,
   "metadata": {},
   "outputs": [
    {
     "name": "stdout",
     "output_type": "stream",
     "text": [
      "102.39881087433469 103.31999174569644\n"
     ]
    }
   ],
   "source": [
    "y_pred = regressor.predict(X_test)\n",
    "y_train_pred = regressor.predict(X_train)\n",
    "dnn_training_rmse = sqrt(mean_squared_error(y_train_pred, y_train))\n",
    "dnn_test_rmse = sqrt(mean_squared_error(y_pred,y_test))\n",
    "print(dnn_training_rmse, dnn_test_rmse)"
   ]
  },
  {
   "cell_type": "code",
   "execution_count": 42,
   "metadata": {},
   "outputs": [
    {
     "data": {
      "text/html": [
       "<p>TensorBoard was started successfully with pid 9033. Click <a href=\"/_proxy/52975/\" target=\"_blank\">here</a> to access it.</p>"
      ]
     },
     "metadata": {},
     "output_type": "display_data"
    },
    {
     "data": {
      "text/plain": [
       "9033"
      ]
     },
     "execution_count": 42,
     "metadata": {},
     "output_type": "execute_result"
    }
   ],
   "source": [
    "tb.start('./logs') # Only start it if it is not start yet"
   ]
  }
 ],
 "metadata": {
  "kernelspec": {
   "display_name": "Python 3",
   "language": "python",
   "name": "python3"
  },
  "language_info": {
   "codemirror_mode": {
    "name": "ipython",
    "version": 3
   },
   "file_extension": ".py",
   "mimetype": "text/x-python",
   "name": "python",
   "nbconvert_exporter": "python",
   "pygments_lexer": "ipython3",
   "version": "3.5.6"
  }
 },
 "nbformat": 4,
 "nbformat_minor": 2
}
