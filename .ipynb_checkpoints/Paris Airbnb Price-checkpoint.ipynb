{
 "cells": [
  {
   "cell_type": "markdown",
   "metadata": {},
   "source": [
    "# Paris Airbnb Price\n",
    "\n",
    "How much should I rent my flat per night?\n",
    "\n",
    "I use linear regression for predicting the night price of an appartment on Airbnb.\n",
    "The dataset is available at http://insideairbnb.com/get-the-data.html under a Creative Commons CC0 1.0 Universal (CC0 1.0) \"Public Domain Dedication\" license."
   ]
  },
  {
   "cell_type": "markdown",
   "metadata": {},
   "source": [
    "## 1.Data Preprocessing\n",
    "If the data file is not uncompressed yet, we have to uncompress it."
   ]
  },
  {
   "cell_type": "code",
   "execution_count": null,
   "metadata": {},
   "outputs": [],
   "source": [
    "#import gzip\n",
    "#import shutil\n",
    "#with gzip.open('data/listing.csv.gz', 'rb') as f_in:\n",
    "#    with open('data/listing.csv', 'wb') as f_out:\n",
    "#        shutil.copyfileobj(f_in, f_out)"
   ]
  },
  {
   "cell_type": "markdown",
   "metadata": {},
   "source": [
    "If Keras is not installed, install it (and reset the session if on a Google Cloud Datalab)."
   ]
  },
  {
   "cell_type": "code",
   "execution_count": null,
   "metadata": {},
   "outputs": [],
   "source": [
    "!pip3 install keras\n",
    "!pip install Tensorboard"
   ]
  },
  {
   "cell_type": "markdown",
   "metadata": {},
   "source": [
    "First, we import the required libraries"
   ]
  },
  {
   "cell_type": "code",
   "execution_count": 1,
   "metadata": {},
   "outputs": [
    {
     "name": "stderr",
     "output_type": "stream",
     "text": [
      "/usr/local/envs/py3env/lib/python3.5/site-packages/h5py/__init__.py:36: FutureWarning: Conversion of the second argument of issubdtype from `float` to `np.floating` is deprecated. In future, it will be treated as `np.float64 == np.dtype(float).type`.\n",
      "  from ._conv import register_converters as _register_converters\n",
      "Using TensorFlow backend.\n"
     ]
    }
   ],
   "source": [
    "import numpy as np\n",
    "import matplotlib.pyplot as plt\n",
    "import pandas as pd\n",
    "from sklearn.model_selection import train_test_split\n",
    "from sklearn.preprocessing import StandardScaler\n",
    "from sklearn.preprocessing import Imputer\n",
    "from sklearn.preprocessing import LabelEncoder, OneHotEncoder\n",
    "from sklearn.linear_model import LinearRegression\n",
    "from sklearn.metrics import mean_squared_error\n",
    "from math import sqrt\n",
    "from sklearn.preprocessing import PolynomialFeatures\n",
    "import keras\n",
    "from keras.models import Sequential\n",
    "from keras.layers import Dense\n",
    "from time import time\n",
    "from keras.callbacks import TensorBoard\n",
    "from google.datalab.ml import TensorBoard as tb # if running from a Google Cloud Platform Datalab"
   ]
  },
  {
   "cell_type": "markdown",
   "metadata": {},
   "source": [
    "Then, we import the dataset and have a look at it."
   ]
  },
  {
   "cell_type": "code",
   "execution_count": 2,
   "metadata": {},
   "outputs": [
    {
     "name": "stdout",
     "output_type": "stream",
     "text": [
      "Index(['id', 'listing_url', 'scrape_id', 'last_scraped', 'name', 'summary',\n",
      "       'space', 'description', 'experiences_offered', 'neighborhood_overview',\n",
      "       'notes', 'transit', 'access', 'interaction', 'house_rules',\n",
      "       'thumbnail_url', 'medium_url', 'picture_url', 'xl_picture_url',\n",
      "       'host_id', 'host_url', 'host_name', 'host_since', 'host_location',\n",
      "       'host_about', 'host_response_time', 'host_response_rate',\n",
      "       'host_acceptance_rate', 'host_is_superhost', 'host_thumbnail_url',\n",
      "       'host_picture_url', 'host_neighbourhood', 'host_listings_count',\n",
      "       'host_total_listings_count', 'host_verifications',\n",
      "       'host_has_profile_pic', 'host_identity_verified', 'street',\n",
      "       'neighbourhood', 'neighbourhood_cleansed',\n",
      "       'neighbourhood_group_cleansed', 'city', 'state', 'zipcode', 'market',\n",
      "       'smart_location', 'country_code', 'country', 'latitude', 'longitude',\n",
      "       'is_location_exact', 'property_type', 'room_type', 'accommodates',\n",
      "       'bathrooms', 'bedrooms', 'beds', 'bed_type', 'amenities', 'square_feet',\n",
      "       'price', 'weekly_price', 'monthly_price', 'security_deposit',\n",
      "       'cleaning_fee', 'guests_included', 'extra_people', 'minimum_nights',\n",
      "       'maximum_nights', 'calendar_updated', 'has_availability',\n",
      "       'availability_30', 'availability_60', 'availability_90',\n",
      "       'availability_365', 'calendar_last_scraped', 'number_of_reviews',\n",
      "       'first_review', 'last_review', 'review_scores_rating',\n",
      "       'review_scores_accuracy', 'review_scores_cleanliness',\n",
      "       'review_scores_checkin', 'review_scores_communication',\n",
      "       'review_scores_location', 'review_scores_value', 'requires_license',\n",
      "       'license', 'jurisdiction_names', 'instant_bookable',\n",
      "       'is_business_travel_ready', 'cancellation_policy',\n",
      "       'require_guest_profile_picture', 'require_guest_phone_verification',\n",
      "       'calculated_host_listings_count', 'reviews_per_month'],\n",
      "      dtype='object')\n",
      "(59881, 96)\n"
     ]
    }
   ],
   "source": [
    "dataset = pd.read_csv('data/listings.csv', low_memory=False)\n",
    "print(dataset.columns)\n",
    "print(dataset.shape)"
   ]
  },
  {
   "cell_type": "markdown",
   "metadata": {},
   "source": [
    "There are a lot of variable. 96 to be exact.\n",
    "Let's keep only the relevant ones, as well as the dependent variable: the price per night!"
   ]
  },
  {
   "cell_type": "code",
   "execution_count": 3,
   "metadata": {},
   "outputs": [
    {
     "data": {
      "text/html": [
       "<div>\n",
       "<style scoped>\n",
       "    .dataframe tbody tr th:only-of-type {\n",
       "        vertical-align: middle;\n",
       "    }\n",
       "\n",
       "    .dataframe tbody tr th {\n",
       "        vertical-align: top;\n",
       "    }\n",
       "\n",
       "    .dataframe thead th {\n",
       "        text-align: right;\n",
       "    }\n",
       "</style>\n",
       "<table border=\"1\" class=\"dataframe\">\n",
       "  <thead>\n",
       "    <tr style=\"text-align: right;\">\n",
       "      <th></th>\n",
       "      <th>host_is_superhost</th>\n",
       "      <th>neighbourhood</th>\n",
       "      <th>zipcode</th>\n",
       "      <th>latitude</th>\n",
       "      <th>longitude</th>\n",
       "      <th>property_type</th>\n",
       "      <th>room_type</th>\n",
       "      <th>accommodates</th>\n",
       "      <th>bathrooms</th>\n",
       "      <th>bedrooms</th>\n",
       "      <th>...</th>\n",
       "      <th>monthly_price</th>\n",
       "      <th>cleaning_fee</th>\n",
       "      <th>number_of_reviews</th>\n",
       "      <th>review_scores_rating</th>\n",
       "      <th>review_scores_accuracy</th>\n",
       "      <th>review_scores_cleanliness</th>\n",
       "      <th>review_scores_checkin</th>\n",
       "      <th>review_scores_communication</th>\n",
       "      <th>review_scores_location</th>\n",
       "      <th>review_scores_value</th>\n",
       "    </tr>\n",
       "  </thead>\n",
       "  <tbody>\n",
       "    <tr>\n",
       "      <th>0</th>\n",
       "      <td>f</td>\n",
       "      <td>République</td>\n",
       "      <td>75010</td>\n",
       "      <td>48.869933</td>\n",
       "      <td>2.362511</td>\n",
       "      <td>Loft</td>\n",
       "      <td>Entire home/apt</td>\n",
       "      <td>4</td>\n",
       "      <td>2.0</td>\n",
       "      <td>2.0</td>\n",
       "      <td>...</td>\n",
       "      <td>NaN</td>\n",
       "      <td>$40.00</td>\n",
       "      <td>0</td>\n",
       "      <td>NaN</td>\n",
       "      <td>NaN</td>\n",
       "      <td>NaN</td>\n",
       "      <td>NaN</td>\n",
       "      <td>NaN</td>\n",
       "      <td>NaN</td>\n",
       "      <td>NaN</td>\n",
       "    </tr>\n",
       "    <tr>\n",
       "      <th>1</th>\n",
       "      <td>f</td>\n",
       "      <td>Alésia</td>\n",
       "      <td>75014</td>\n",
       "      <td>48.833494</td>\n",
       "      <td>2.318518</td>\n",
       "      <td>Apartment</td>\n",
       "      <td>Entire home/apt</td>\n",
       "      <td>2</td>\n",
       "      <td>1.0</td>\n",
       "      <td>1.0</td>\n",
       "      <td>...</td>\n",
       "      <td>NaN</td>\n",
       "      <td>$50.00</td>\n",
       "      <td>7</td>\n",
       "      <td>100.0</td>\n",
       "      <td>10.0</td>\n",
       "      <td>10.0</td>\n",
       "      <td>10.0</td>\n",
       "      <td>10.0</td>\n",
       "      <td>10.0</td>\n",
       "      <td>10.0</td>\n",
       "    </tr>\n",
       "    <tr>\n",
       "      <th>2</th>\n",
       "      <td>f</td>\n",
       "      <td>Saint-Paul - Ile Saint-Louis</td>\n",
       "      <td>75004</td>\n",
       "      <td>48.851001</td>\n",
       "      <td>2.358690</td>\n",
       "      <td>Apartment</td>\n",
       "      <td>Entire home/apt</td>\n",
       "      <td>2</td>\n",
       "      <td>1.0</td>\n",
       "      <td>0.0</td>\n",
       "      <td>...</td>\n",
       "      <td>$2,000.00</td>\n",
       "      <td>$36.00</td>\n",
       "      <td>148</td>\n",
       "      <td>94.0</td>\n",
       "      <td>9.0</td>\n",
       "      <td>9.0</td>\n",
       "      <td>10.0</td>\n",
       "      <td>10.0</td>\n",
       "      <td>10.0</td>\n",
       "      <td>10.0</td>\n",
       "    </tr>\n",
       "    <tr>\n",
       "      <th>3</th>\n",
       "      <td>t</td>\n",
       "      <td>Le Marais</td>\n",
       "      <td>75004</td>\n",
       "      <td>48.857576</td>\n",
       "      <td>2.352751</td>\n",
       "      <td>Apartment</td>\n",
       "      <td>Entire home/apt</td>\n",
       "      <td>4</td>\n",
       "      <td>1.0</td>\n",
       "      <td>2.0</td>\n",
       "      <td>...</td>\n",
       "      <td>$2,200.00</td>\n",
       "      <td>$50.00</td>\n",
       "      <td>231</td>\n",
       "      <td>94.0</td>\n",
       "      <td>10.0</td>\n",
       "      <td>9.0</td>\n",
       "      <td>10.0</td>\n",
       "      <td>10.0</td>\n",
       "      <td>10.0</td>\n",
       "      <td>9.0</td>\n",
       "    </tr>\n",
       "    <tr>\n",
       "      <th>4</th>\n",
       "      <td>f</td>\n",
       "      <td>Gare du Nord - Gare de I'Est</td>\n",
       "      <td>75009</td>\n",
       "      <td>48.874642</td>\n",
       "      <td>2.343411</td>\n",
       "      <td>Apartment</td>\n",
       "      <td>Entire home/apt</td>\n",
       "      <td>2</td>\n",
       "      <td>1.0</td>\n",
       "      <td>2.0</td>\n",
       "      <td>...</td>\n",
       "      <td>NaN</td>\n",
       "      <td>$60.00</td>\n",
       "      <td>6</td>\n",
       "      <td>96.0</td>\n",
       "      <td>10.0</td>\n",
       "      <td>10.0</td>\n",
       "      <td>10.0</td>\n",
       "      <td>10.0</td>\n",
       "      <td>10.0</td>\n",
       "      <td>10.0</td>\n",
       "    </tr>\n",
       "  </tbody>\n",
       "</table>\n",
       "<p>5 rows × 26 columns</p>\n",
       "</div>"
      ],
      "text/plain": [
       "  host_is_superhost                 neighbourhood zipcode   latitude  \\\n",
       "0                 f                    République   75010  48.869933   \n",
       "1                 f                        Alésia   75014  48.833494   \n",
       "2                 f  Saint-Paul - Ile Saint-Louis   75004  48.851001   \n",
       "3                 t                     Le Marais   75004  48.857576   \n",
       "4                 f  Gare du Nord - Gare de I'Est   75009  48.874642   \n",
       "\n",
       "   longitude property_type        room_type  accommodates  bathrooms  \\\n",
       "0   2.362511          Loft  Entire home/apt             4        2.0   \n",
       "1   2.318518     Apartment  Entire home/apt             2        1.0   \n",
       "2   2.358690     Apartment  Entire home/apt             2        1.0   \n",
       "3   2.352751     Apartment  Entire home/apt             4        1.0   \n",
       "4   2.343411     Apartment  Entire home/apt             2        1.0   \n",
       "\n",
       "   bedrooms         ...           monthly_price cleaning_fee  \\\n",
       "0       2.0         ...                     NaN       $40.00   \n",
       "1       1.0         ...                     NaN       $50.00   \n",
       "2       0.0         ...               $2,000.00       $36.00   \n",
       "3       2.0         ...               $2,200.00       $50.00   \n",
       "4       2.0         ...                     NaN       $60.00   \n",
       "\n",
       "  number_of_reviews  review_scores_rating review_scores_accuracy  \\\n",
       "0                 0                   NaN                    NaN   \n",
       "1                 7                 100.0                   10.0   \n",
       "2               148                  94.0                    9.0   \n",
       "3               231                  94.0                   10.0   \n",
       "4                 6                  96.0                   10.0   \n",
       "\n",
       "  review_scores_cleanliness review_scores_checkin review_scores_communication  \\\n",
       "0                       NaN                   NaN                         NaN   \n",
       "1                      10.0                  10.0                        10.0   \n",
       "2                       9.0                  10.0                        10.0   \n",
       "3                       9.0                  10.0                        10.0   \n",
       "4                      10.0                  10.0                        10.0   \n",
       "\n",
       "   review_scores_location  review_scores_value  \n",
       "0                     NaN                  NaN  \n",
       "1                    10.0                 10.0  \n",
       "2                    10.0                 10.0  \n",
       "3                    10.0                  9.0  \n",
       "4                    10.0                 10.0  \n",
       "\n",
       "[5 rows x 26 columns]"
      ]
     },
     "execution_count": 3,
     "metadata": {},
     "output_type": "execute_result"
    }
   ],
   "source": [
    "dataset = dataset[['host_is_superhost','neighbourhood','zipcode','latitude','longitude','property_type',\n",
    "                   'room_type','accommodates','bathrooms','bedrooms','beds','bed_type','amenities','square_feet','price',\n",
    "                   'weekly_price','monthly_price','cleaning_fee','number_of_reviews','review_scores_rating',\n",
    "                   'review_scores_accuracy','review_scores_cleanliness','review_scores_checkin',\n",
    "                   'review_scores_communication','review_scores_location','review_scores_value']]\n",
    "dataset.iloc[:5,:]"
   ]
  },
  {
   "cell_type": "markdown",
   "metadata": {},
   "source": [
    "These variables are interesting, but we could do better.\n",
    "- Some of these are directly related (neighbourhood and zipcode directly depends of latitude and longitude / global review score depends on the other review scores).\n",
    "- Amenities are a bit difficult to treat for a first version of the algorithm.\n",
    "- Square feet field is rarely completed\n",
    "- Prices are treated as strings because they contain the '$' character.\n",
    "- Weekly and Monthly prices are not always available and we should for now keep these appart.\n",
    "- We are going to predict the total price which is composed of the price added the cleaning fee.\n",
    "- When there is no review, the other review variables are considered 'Nan'.\n",
    "- Sometimes, the other review variables are 'NaN' even though there are reviews."
   ]
  },
  {
   "cell_type": "code",
   "execution_count": 4,
   "metadata": {},
   "outputs": [],
   "source": [
    "dataset = dataset.drop(columns=['neighbourhood','zipcode','amenities','square_feet','weekly_price','monthly_price','review_scores_rating'])\n",
    "dataset['price'] = dataset['price'].replace('[\\$,]', '', regex=True).astype(float) + dataset['cleaning_fee'].replace('[\\$,]', '', regex=True).astype(float)\n",
    "dataset = dataset.drop(columns=['cleaning_fee'])\n",
    "#Reordering the columns\n",
    "dataset = dataset[['host_is_superhost', 'property_type','room_type','bed_type','latitude','longitude','accommodates','bathrooms','bedrooms','number_of_reviews','review_scores_accuracy','review_scores_cleanliness','review_scores_checkin','review_scores_communication','review_scores_location','review_scores_value','price']]\n",
    "dataset = dataset.dropna(subset=['price'])\n",
    "#Splitting X and y\n",
    "X = dataset.drop('price',axis='columns')\n",
    "y = dataset['price']"
   ]
  },
  {
   "cell_type": "code",
   "execution_count": 5,
   "metadata": {},
   "outputs": [],
   "source": [
    "#Replacing \"NaN\" values of numerical variables\n",
    "X_numerical = X.values[:,4:]\n",
    "imputer = Imputer(missing_values = 'NaN', strategy = 'mean', axis = 0)\n",
    "imputer = imputer.fit(X_numerical)\n",
    "X_numerical = imputer.transform(X_numerical)"
   ]
  },
  {
   "cell_type": "code",
   "execution_count": 6,
   "metadata": {},
   "outputs": [],
   "source": [
    "# Encoding the categorical data\n",
    "X[['host_is_superhost', 'property_type','room_type','bed_type']] = X[['host_is_superhost', 'property_type','room_type','bed_type']].astype('str').apply(LabelEncoder().fit_transform)"
   ]
  },
  {
   "cell_type": "code",
   "execution_count": 7,
   "metadata": {},
   "outputs": [],
   "source": [
    "X_categorical = X.values[:,0:3].astype('int64')\n",
    "onehotencoder = OneHotEncoder()\n",
    "X_categorical = onehotencoder.fit_transform(X_categorical).toarray()\n",
    "X = np.append(X_categorical,X_numerical, axis=1)"
   ]
  },
  {
   "cell_type": "markdown",
   "metadata": {},
   "source": [
    "Looks better! Now let's split the dataset between dependent, independent variables and training and test sets.\n",
    "We should also encode the categorical data, or, for now, exclude it."
   ]
  },
  {
   "cell_type": "code",
   "execution_count": 8,
   "metadata": {},
   "outputs": [],
   "source": [
    "# Splitting the dataset into the Training set and Test set\n",
    "X_train, X_test, y_train, y_test = train_test_split(X, y, test_size = 0.2)\n",
    "y_train = y_train.values\n",
    "y_test = y_test.values"
   ]
  },
  {
   "cell_type": "markdown",
   "metadata": {},
   "source": [
    "Our data has been cleaned. Let's build some machine learning models!\n",
    "# 2. Models"
   ]
  },
  {
   "cell_type": "markdown",
   "metadata": {},
   "source": [
    "## 2.1. Linear Regression\n",
    "Let's build a Linear Regression model!"
   ]
  },
  {
   "cell_type": "code",
   "execution_count": 9,
   "metadata": {
    "codeCollapsed": false
   },
   "outputs": [],
   "source": [
    "def linear_regression(X_train, y_train, X_test, y_test):\n",
    "    # Fitting Simple Linear Regression to the Training set\n",
    "    regressor = LinearRegression()\n",
    "    regressor.fit(X_train, y_train)\n",
    "    train_rmse = sqrt(mean_squared_error(regressor.predict(X_train),y_train))\n",
    "    test_rmse = sqrt(mean_squared_error(regressor.predict(X_test),y_test))\n",
    "    return train_rmse, test_rmse"
   ]
  },
  {
   "cell_type": "markdown",
   "metadata": {},
   "source": [
    "Now that our model is build, we can evaluate it and see the evolution of its training and test losses depending on the dataset size."
   ]
  },
  {
   "cell_type": "code",
   "execution_count": 10,
   "metadata": {},
   "outputs": [],
   "source": [
    "lr_eval = pd.DataFrame(0, index=range(100), columns=['train rmse', 'test rmse'])\n",
    "for i in range(100):\n",
    "  subset_size = int(round(((i+1)*X_train.shape[0]/100)))\n",
    "  [lr_eval.values[i,0],lr_eval.values[i,1]] = linear_regression(X_train[:subset_size,:],y_train[:subset_size], X_test, y_test)"
   ]
  },
  {
   "cell_type": "code",
   "execution_count": 11,
   "metadata": {},
   "outputs": [
    {
     "name": "stderr",
     "output_type": "stream",
     "text": [
      "/usr/local/envs/py3env/lib/python3.5/site-packages/matplotlib/font_manager.py:1320: UserWarning: findfont: Font family ['sans-serif'] not found. Falling back to DejaVu Sans\n",
      "  (prop.get_family(), self.defaultFamily[fontext]))\n"
     ]
    },
    {
     "data": {
      "image/png": "[encoded data removed]",
      "text/plain": [
       "<matplotlib.figure.Figure at 0x7fd3c0c0beb8>"
      ]
     },
     "metadata": {},
     "output_type": "display_data"
    }
   ],
   "source": [
    "plt.gca().set_ylim([75,200])\n",
    "plt.plot(lr_eval['train rmse'], label='Training RMSE')\n",
    "plt.plot(lr_eval['test rmse'], label='Test RMSE')\n",
    "plt.show()"
   ]
  },
  {
   "cell_type": "markdown",
   "metadata": {},
   "source": [
    "As we can see, there is a large gap between our training set results and our test set results.\n",
    "There is a high variance problem, which we might be able to solve by getting more data."
   ]
  },
  {
   "cell_type": "markdown",
   "metadata": {},
   "source": [
    "Nevertheless, our training and test set results do not seem to be able to converge more if we keep using this algorithm.\n",
    "One solution might be to use a smaller set of features, by selecting only the numerical ones."
   ]
  },
  {
   "cell_type": "code",
   "execution_count": 19,
   "metadata": {},
   "outputs": [],
   "source": [
    "X_num_train, X_num_test, y_num_train, y_num_test = train_test_split(X_numerical, y, test_size = 0.2)\n",
    "# Feature Scaling\n",
    "sc_X = StandardScaler()\n",
    "X_num_train = sc_X.fit_transform(X_num_train)\n",
    "X_num_test = sc_X.transform(X_num_test)"
   ]
  },
  {
   "cell_type": "code",
   "execution_count": 20,
   "metadata": {},
   "outputs": [],
   "source": [
    "lr_num_eval = pd.DataFrame(0, index=range(100), columns=['train rmse', 'test rmse'])\n",
    "for i in range(100):\n",
    "  subset_size = int(round(((i+1)*X_num_train.shape[0]/100)))\n",
    "  [lr_num_eval.values[i,0],lr_num_eval.values[i,1]] = linear_regression(X_num_train[:subset_size,:],y_num_train[:subset_size], X_num_test, y_num_test)"
   ]
  },
  {
   "cell_type": "markdown",
   "metadata": {},
   "source": [
    "Now, let's see the results!"
   ]
  },
  {
   "cell_type": "code",
   "execution_count": 21,
   "metadata": {},
   "outputs": [
    {
     "name": "stderr",
     "output_type": "stream",
     "text": [
      "/usr/local/envs/py3env/lib/python3.5/site-packages/matplotlib/font_manager.py:1320: UserWarning: findfont: Font family ['sans-serif'] not found. Falling back to DejaVu Sans\n",
      "  (prop.get_family(), self.defaultFamily[fontext]))\n"
     ]
    },
    {
     "data": {
      "image/png": "[encoded data removed]",
      "text/plain": [
       "<matplotlib.figure.Figure at 0x7fd3c287b390>"
      ]
     },
     "metadata": {},
     "output_type": "display_data"
    }
   ],
   "source": [
    "plt.gca().set_ylim([0,200])\n",
    "plt.plot(lr_num_eval['train rmse'], label='Training RMSE')\n",
    "plt.plot(lr_num_eval['test rmse'], label='Test RMSE')\n",
    "plt.show()"
   ]
  },
  {
   "cell_type": "markdown",
   "metadata": {},
   "source": [
    "## 2.2 Polynomial Regression\n",
    "Maybe a polynomial model is more adapted to this problem?"
   ]
  },
  {
   "cell_type": "code",
   "execution_count": 23,
   "metadata": {},
   "outputs": [],
   "source": [
    "def polynomial_regression(X_train,y_train,X_test,y_test, polynomial_degree):\n",
    "  polynomialFeatures = PolynomialFeatures(degree = polynomial_degree)\n",
    "  X_train_poly = polynomialFeatures.fit_transform(X_train)\n",
    "  polynomialFeatures.fit(X_train_poly, y_train)\n",
    "  polynomial_regressor = LinearRegression()\n",
    "  polynomial_regressor.fit(X_train_poly, y_train)\n",
    "  train_rmse = sqrt(mean_squared_error(polynomial_regressor.predict(X_train_poly),y_train))\n",
    "  test_rmse = sqrt(mean_squared_error(polynomial_regressor.predict(polynomialFeatures.fit_transform(X_test)),y_test))\n",
    "  return train_rmse,test_rmse"
   ]
  },
  {
   "cell_type": "code",
   "execution_count": 55,
   "metadata": {},
   "outputs": [
    {
     "name": "stdout",
     "output_type": "stream",
     "text": [
      "Polynomial Regression n°1/10\n",
      "Polynomial Regression n°2/10\n",
      "Polynomial Regression n°3/10\n",
      "Polynomial Regression n°4/10\n",
      "Polynomial Regression n°5/10\n",
      "Polynomial Regression n°6/10\n",
      "Polynomial Regression n°7/10\n",
      "Polynomial Regression n°8/10\n",
      "Polynomial Regression n°9/10\n",
      "Polynomial Regression n°10/10\n"
     ]
    }
   ],
   "source": [
    "pl_eval = pd.DataFrame(0, index=range(10), columns=['train rmse', 'test rmse'])\n",
    "for i in range(10):\n",
    "  print('Polynomial Regression n°{}/10'.format(i+1))\n",
    "  subset_size = int(round(((i+1)*X_train.shape[0]/10)))\n",
    "  [pl_eval.values[i,0],pl_eval.values[i,1]] = polynomial_regression(X_train[:subset_size,:],y_train[:subset_size], X_test, y_test, polynomial_degree = 2)"
   ]
  },
  {
   "cell_type": "code",
   "execution_count": 56,
   "metadata": {},
   "outputs": [
    {
     "name": "stderr",
     "output_type": "stream",
     "text": [
      "/usr/local/envs/py3env/lib/python3.5/site-packages/matplotlib/font_manager.py:1320: UserWarning: findfont: Font family ['sans-serif'] not found. Falling back to DejaVu Sans\n",
      "  (prop.get_family(), self.defaultFamily[fontext]))\n"
     ]
    },
    {
     "data": {
      "image/png": "[encoded data removed]",
      "text/plain": [
       "<matplotlib.figure.Figure at 0x7f4ffe75e5f8>"
      ]
     },
     "metadata": {},
     "output_type": "display_data"
    }
   ],
   "source": [
    "plt.gca().set_ylim([0,1000])\n",
    "plt.plot(pl_eval['train rmse'], label='Training RMSE')\n",
    "plt.plot(pl_eval['test rmse'], label='Test RMSE')\n",
    "plt.show()"
   ]
  },
  {
   "cell_type": "markdown",
   "metadata": {},
   "source": [
    "This is obviously not right. We should try:\n",
    "- Reducing the set of features\n",
    "- Increasing the polynomial degree"
   ]
  },
  {
   "cell_type": "code",
   "execution_count": 27,
   "metadata": {},
   "outputs": [
    {
     "name": "stdout",
     "output_type": "stream",
     "text": [
      "Polynomial Regression n°1/10...\n",
      "Polynomial Regression n°2/10...\n",
      "Polynomial Regression n°3/10...\n",
      "Polynomial Regression n°4/10...\n",
      "Polynomial Regression n°5/10...\n",
      "Polynomial Regression n°6/10...\n",
      "Polynomial Regression n°7/10...\n",
      "Polynomial Regression n°8/10...\n",
      "Polynomial Regression n°9/10...\n",
      "Polynomial Regression n°10/10...\n"
     ]
    }
   ],
   "source": [
    "pl_num_eval = pd.DataFrame(0, index=range(10), columns=['train rmse', 'test rmse'])\n",
    "for i in range(10):\n",
    "  print('Polynomial Regression n°{}/10...'.format(i+1))\n",
    "  subset_size = int(round(((i+1)*X_num_train.shape[0]/10)))\n",
    "  [pl_num_eval.values[i,0],pl_num_eval.values[i,1]] = polynomial_regression(X_num_train[:subset_size,:],y_num_train[:subset_size], X_num_test, y_num_test, polynomial_degree = 3)"
   ]
  },
  {
   "cell_type": "code",
   "execution_count": 25,
   "metadata": {},
   "outputs": [
    {
     "name": "stderr",
     "output_type": "stream",
     "text": [
      "/usr/local/envs/py3env/lib/python3.5/site-packages/matplotlib/font_manager.py:1320: UserWarning: findfont: Font family ['sans-serif'] not found. Falling back to DejaVu Sans\n",
      "  (prop.get_family(), self.defaultFamily[fontext]))\n"
     ]
    },
    {
     "data": {
      "image/png": "[encoded data removed]",
      "text/plain": [
       "<matplotlib.figure.Figure at 0x7fd3c0bde908>"
      ]
     },
     "metadata": {},
     "output_type": "display_data"
    }
   ],
   "source": [
    "plt.gca().set_ylim([0,500])\n",
    "plt.plot(pl_num_eval['train rmse'], label='Training RMSE')\n",
    "plt.plot(pl_num_eval['test rmse'], label='Test RMSE')\n",
    "plt.show()"
   ]
  },
  {
   "cell_type": "markdown",
   "metadata": {},
   "source": [
    "This result looks better.\n",
    "As we can see, the test and train errors are now converging, which suggest a high bias problem for this algorithm."
   ]
  },
  {
   "cell_type": "markdown",
   "metadata": {},
   "source": [
    "In order to improve the machine learning predictions, we could try:\n",
    "- Finding new, relevant, features.\n",
    "- Increasing further the polynomial degree\n",
    "- Decreasing lambda, so that the polynomial regression underfits less the training data"
   ]
  },
  {
   "cell_type": "markdown",
   "metadata": {},
   "source": [
    "## 2.3 Random Forest Regression"
   ]
  },
  {
   "cell_type": "code",
   "execution_count": 39,
   "metadata": {},
   "outputs": [
    {
     "name": "stdout",
     "output_type": "stream",
     "text": [
      "Random Forest Regression n°1/10...\n",
      "Random Forest Regression n°2/10...\n",
      "Random Forest Regression n°3/10...\n",
      "Random Forest Regression n°4/10...\n",
      "Random Forest Regression n°5/10...\n",
      "Random Forest Regression n°6/10...\n",
      "Random Forest Regression n°7/10...\n",
      "Random Forest Regression n°8/10...\n",
      "Random Forest Regression n°9/10...\n",
      "Random Forest Regression n°10/10...\n"
     ]
    }
   ],
   "source": [
    "from sklearn.ensemble import RandomForestRegressor\n",
    "def rf_regression(X_train,y_train,X_test,y_test,estimators):\n",
    "  rf_regressor = RandomForestRegressor(n_estimators = estimators)\n",
    "  rf_regressor.fit(X_train, y_train)\n",
    "  rf_train_rmse = sqrt(mean_squared_error(rf_regressor.predict(X_train),y_train))\n",
    "  rf_test_rmse = sqrt(mean_squared_error(rf_regressor.predict(X_test),y_test))\n",
    "  return rf_train_rmse, rf_test_rmse\n",
    "\n",
    "rf_eval = pd.DataFrame(0, index=range(10), columns=['train rmse', 'test rmse'])\n",
    "for i in range(10):\n",
    "  print('Random Forest Regression n°{}/10...'.format(i+1))\n",
    "  subset_size = int(round(((i+1)*X_train.shape[0]/10)))\n",
    "  [rf_eval.values[i,0],rf_eval.values[i,1]] = rf_regression(X_train[:subset_size,:],y_train[:subset_size],\n",
    "                                                                    X_test, y_test, estimators = 40)"
   ]
  },
  {
   "cell_type": "code",
   "execution_count": 40,
   "metadata": {},
   "outputs": [
    {
     "name": "stderr",
     "output_type": "stream",
     "text": [
      "/usr/local/envs/py3env/lib/python3.5/site-packages/matplotlib/font_manager.py:1320: UserWarning: findfont: Font family ['sans-serif'] not found. Falling back to DejaVu Sans\n",
      "  (prop.get_family(), self.defaultFamily[fontext]))\n"
     ]
    },
    {
     "data": {
      "image/png": "[encoded data removed]",
      "text/plain": [
       "<matplotlib.figure.Figure at 0x7fd3c9fa64a8>"
      ]
     },
     "metadata": {},
     "output_type": "display_data"
    }
   ],
   "source": [
    "plt.gca().set_ylim([0,200])\n",
    "plt.plot(rf_eval['train rmse'], label='Training RMSE')\n",
    "plt.plot(rf_eval['test rmse'], label='Test RMSE')\n",
    "plt.show()"
   ]
  },
  {
   "cell_type": "markdown",
   "metadata": {},
   "source": [
    "## 2.4 Support Vector Regression"
   ]
  },
  {
   "cell_type": "code",
   "execution_count": null,
   "metadata": {},
   "outputs": [
    {
     "name": "stdout",
     "output_type": "stream",
     "text": [
      "Random Forest Regression n°1/10...\n",
      "Random Forest Regression n°2/10...\n",
      "Random Forest Regression n°3/10...\n",
      "Random Forest Regression n°4/10...\n",
      "Random Forest Regression n°5/10...\n",
      "Random Forest Regression n°6/10...\n",
      "Random Forest Regression n°7/10...\n"
     ]
    }
   ],
   "source": [
    "from sklearn.svm import SVR\n",
    "def sv_regression(X_train,y_train,X_test,y_test):\n",
    "  sv_regressor = SVR(kernel = 'rbf')\n",
    "  sv_regressor.fit(X_train, y_train)\n",
    "  sv_train_rmse = sqrt(mean_squared_error(sv_regressor.predict(X_train),y_train))\n",
    "  sv_test_rmse = sqrt(mean_squared_error(sv_regressor.predict(X_test),y_test))\n",
    "  return sv_train_rmse, sv_test_rmse\n",
    "\n",
    "sv_eval = pd.DataFrame(0, index=range(5), columns=['train rmse', 'test rmse'])\n",
    "for i in range(5):\n",
    "  print('Random Forest Regression n°{}/5...'.format(i+1))\n",
    "  subset_size = int(round(((i+1)*X_train.shape[0]/5)))\n",
    "  [sv_eval.values[i,0],sv_eval.values[i,1]] = sv_regression(X_train[:subset_size,:],y_train[:subset_size], X_test, y_test)\n",
    "  \n",
    "plt.gca().set_ylim([0,200])\n",
    "plt.plot(sv_eval['train rmse'], label='Training RMSE')\n",
    "plt.plot(sv_eval['test rmse'], label='Test RMSE')\n",
    "plt.show()"
   ]
  },
  {
   "cell_type": "markdown",
   "metadata": {},
   "source": [
    "## 2.5 Deep Neural Network"
   ]
  },
  {
   "cell_type": "markdown",
   "metadata": {},
   "source": [
    "Building the Neural Network."
   ]
  },
  {
   "cell_type": "code",
   "execution_count": 61,
   "metadata": {},
   "outputs": [],
   "source": [
    "regressor = Sequential()\n",
    "regressor.add(Dense(kernel_initializer = 'normal', activation = 'relu', input_dim = 46, units = 28))\n",
    "regressor.add(Dense(kernel_initializer = 'normal', activation = 'relu', input_dim = 28, units = 12))\n",
    "regressor.add(Dense(kernel_initializer = 'normal', activation = 'relu', input_dim = 12, units = 6))\n",
    "regressor.add(Dense(kernel_initializer = 'normal', input_dim = 6, units = 1))\n",
    "# Compiling the ANN\n",
    "regressor.compile(optimizer = 'adam', loss = 'mean_squared_error')"
   ]
  },
  {
   "cell_type": "markdown",
   "metadata": {},
   "source": [
    "Training the Neural Network."
   ]
  },
  {
   "cell_type": "code",
   "execution_count": 43,
   "metadata": {},
   "outputs": [
    {
     "name": "stdout",
     "output_type": "stream",
     "text": [
      "Epoch 1/50\n",
      "34495/34495 [==============================] - 1s 19us/step - loss: 11305.6053\n",
      "Epoch 2/50\n",
      "34495/34495 [==============================] - 1s 22us/step - loss: 11220.1786\n",
      "Epoch 3/50\n",
      "34495/34495 [==============================] - 0s 13us/step - loss: 11166.1601\n",
      "Epoch 4/50\n",
      "34495/34495 [==============================] - 0s 13us/step - loss: 11166.2248\n",
      "Epoch 5/50\n",
      "34495/34495 [==============================] - 0s 13us/step - loss: 11172.3702\n",
      "Epoch 6/50\n",
      "34495/34495 [==============================] - 0s 13us/step - loss: 11148.1724\n",
      "Epoch 7/50\n",
      "34495/34495 [==============================] - 0s 13us/step - loss: 11094.9866\n",
      "Epoch 8/50\n",
      "34495/34495 [==============================] - 0s 14us/step - loss: 11079.6474\n",
      "Epoch 9/50\n",
      "34495/34495 [==============================] - 0s 13us/step - loss: 11133.7825\n",
      "Epoch 10/50\n",
      "34495/34495 [==============================] - 0s 13us/step - loss: 11083.5890\n",
      "Epoch 11/50\n",
      "34495/34495 [==============================] - 0s 13us/step - loss: 11094.5513\n",
      "Epoch 12/50\n",
      "34495/34495 [==============================] - 0s 13us/step - loss: 11024.3790\n",
      "Epoch 13/50\n",
      "34495/34495 [==============================] - 0s 13us/step - loss: 11029.4561\n",
      "Epoch 14/50\n",
      "34495/34495 [==============================] - 0s 13us/step - loss: 11015.7918\n",
      "Epoch 15/50\n",
      "34495/34495 [==============================] - 0s 13us/step - loss: 11000.4922\n",
      "Epoch 16/50\n",
      "34495/34495 [==============================] - 0s 13us/step - loss: 10994.9539\n",
      "Epoch 17/50\n",
      "34495/34495 [==============================] - 0s 13us/step - loss: 10998.7819\n",
      "Epoch 18/50\n",
      "34495/34495 [==============================] - 0s 13us/step - loss: 10978.8711\n",
      "Epoch 19/50\n",
      "34495/34495 [==============================] - ETA: 0s - loss: 11476.911 - 0s 13us/step - loss: 10972.1129\n",
      "Epoch 20/50\n",
      "34495/34495 [==============================] - 0s 13us/step - loss: 10940.7958\n",
      "Epoch 21/50\n",
      "34495/34495 [==============================] - 0s 13us/step - loss: 11013.4195\n",
      "Epoch 22/50\n",
      "34495/34495 [==============================] - 0s 13us/step - loss: 10929.3941\n",
      "Epoch 23/50\n",
      "34495/34495 [==============================] - 0s 12us/step - loss: 10948.3240\n",
      "Epoch 24/50\n",
      "34495/34495 [==============================] - 0s 13us/step - loss: 10944.4325\n",
      "Epoch 25/50\n",
      "34495/34495 [==============================] - 0s 13us/step - loss: 10970.0285\n",
      "Epoch 26/50\n",
      "34495/34495 [==============================] - 0s 13us/step - loss: 10928.3758\n",
      "Epoch 27/50\n",
      "34495/34495 [==============================] - 0s 13us/step - loss: 10959.1115\n",
      "Epoch 28/50\n",
      "34495/34495 [==============================] - 0s 13us/step - loss: 10913.2320\n",
      "Epoch 29/50\n",
      "34495/34495 [==============================] - 0s 12us/step - loss: 10939.6359\n",
      "Epoch 30/50\n",
      "34495/34495 [==============================] - 0s 13us/step - loss: 10912.0454\n",
      "Epoch 31/50\n",
      "34495/34495 [==============================] - 0s 12us/step - loss: 10916.2934\n",
      "Epoch 32/50\n",
      "34495/34495 [==============================] - 0s 12us/step - loss: 10924.6644\n",
      "Epoch 33/50\n",
      "34495/34495 [==============================] - 0s 13us/step - loss: 10901.6852\n",
      "Epoch 34/50\n",
      "34495/34495 [==============================] - 0s 13us/step - loss: 10893.6093\n",
      "Epoch 35/50\n",
      "34495/34495 [==============================] - 0s 13us/step - loss: 10920.6228\n",
      "Epoch 36/50\n",
      "34495/34495 [==============================] - 0s 12us/step - loss: 10860.4554\n",
      "Epoch 37/50\n",
      "34495/34495 [==============================] - 0s 13us/step - loss: 10859.5350\n",
      "Epoch 38/50\n",
      "34495/34495 [==============================] - 0s 12us/step - loss: 10884.7926\n",
      "Epoch 39/50\n",
      "34495/34495 [==============================] - 0s 13us/step - loss: 10835.9689\n",
      "Epoch 40/50\n",
      "34495/34495 [==============================] - 0s 13us/step - loss: 10845.8266\n",
      "Epoch 41/50\n",
      "34495/34495 [==============================] - 0s 13us/step - loss: 10878.8240\n",
      "Epoch 42/50\n",
      "34495/34495 [==============================] - 0s 13us/step - loss: 10872.2579\n",
      "Epoch 43/50\n",
      "34495/34495 [==============================] - 0s 13us/step - loss: 10841.0417\n",
      "Epoch 44/50\n",
      "34495/34495 [==============================] - 0s 13us/step - loss: 10820.2089\n",
      "Epoch 45/50\n",
      "34495/34495 [==============================] - 0s 13us/step - loss: 10875.5804\n",
      "Epoch 46/50\n",
      "34495/34495 [==============================] - 0s 13us/step - loss: 10824.3192\n",
      "Epoch 47/50\n",
      "34495/34495 [==============================] - 0s 13us/step - loss: 10812.7745\n",
      "Epoch 48/50\n",
      "34495/34495 [==============================] - 0s 13us/step - loss: 10830.6672\n",
      "Epoch 49/50\n",
      "34495/34495 [==============================] - 0s 13us/step - loss: 10818.0835\n",
      "Epoch 50/50\n",
      "34495/34495 [==============================] - 0s 13us/step - loss: 10827.3175\n",
      "104.20153146412382 94.69242183593319\n"
     ]
    }
   ],
   "source": [
    "tensorboard = TensorBoard(log_dir=\"logs/{}\".format(time()))\n",
    "regressor.fit(X_train, y_train, batch_size = 100, epochs = 50, callbacks=[tensorboard])\n",
    "y_pred = regressor.predict(X_test)\n",
    "y_train_pred = regressor.predict(X_train)\n",
    "dnn_training_rmse = sqrt(mean_squared_error(y_train_pred, y_train))\n",
    "dnn_test_rmse = sqrt(mean_squared_error(y_pred,y_test))\n",
    "print(dnn_training_rmse, dnn_test_rmse)"
   ]
  },
  {
   "cell_type": "markdown",
   "metadata": {},
   "source": [
    "Let's evaluate the model!"
   ]
  },
  {
   "cell_type": "code",
   "execution_count": 38,
   "metadata": {},
   "outputs": [
    {
     "name": "stdout",
     "output_type": "stream",
     "text": [
      "107.94933046565137 96.36587816666861\n"
     ]
    }
   ],
   "source": [
    "y_pred = regressor.predict(X_test)\n",
    "y_train_pred = regressor.predict(X_train)\n",
    "dnn_training_rmse = sqrt(mean_squared_error(y_train_pred, y_train))\n",
    "dnn_test_rmse = sqrt(mean_squared_error(y_pred,y_test))\n",
    "print(dnn_training_rmse, dnn_test_rmse)"
   ]
  },
  {
   "cell_type": "code",
   "execution_count": 36,
   "metadata": {},
   "outputs": [
    {
     "data": {
      "text/html": [
       "<p>TensorBoard was started successfully with pid 4861. Click <a href=\"/_proxy/42157/\" target=\"_blank\">here</a> to access it.</p>"
      ]
     },
     "metadata": {},
     "output_type": "display_data"
    },
    {
     "data": {
      "text/plain": [
       "4861"
      ]
     },
     "execution_count": 36,
     "metadata": {},
     "output_type": "execute_result"
    }
   ],
   "source": [
    "tb.start('./logs') # Only start it if it is not start yet"
   ]
  }
 ],
 "metadata": {
  "kernelspec": {
   "display_name": "Python 3",
   "language": "python",
   "name": "python3"
  },
  "language_info": {
   "codemirror_mode": {
    "name": "ipython",
    "version": 3
   },
   "file_extension": ".py",
   "mimetype": "text/x-python",
   "name": "python",
   "nbconvert_exporter": "python",
   "pygments_lexer": "ipython3",
   "version": "3.5.6"
  }
 },
 "nbformat": 4,
 "nbformat_minor": 2
}
