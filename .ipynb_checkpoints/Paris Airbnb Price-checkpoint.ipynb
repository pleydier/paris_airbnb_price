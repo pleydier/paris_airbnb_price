{
 "cells": [
  {
   "cell_type": "markdown",
   "metadata": {},
   "source": [
    "# Paris Airbnb Price\n",
    "\n",
    "How much should I rent my flat per night?\n",
    "\n",
    "I use linear regression for predicting the night price of an appartment on Airbnb.\n",
    "The dataset is available at http://insideairbnb.com/get-the-data.html under a Creative Commons CC0 1.0 Universal (CC0 1.0) \"Public Domain Dedication\" license."
   ]
  },
  {
   "cell_type": "markdown",
   "metadata": {},
   "source": [
    "## 1.Data Preprocessing\n",
    "If the data file is not uncompressed yet, we have to uncompress it."
   ]
  },
  {
   "cell_type": "code",
   "execution_count": null,
   "metadata": {},
   "outputs": [],
   "source": [
    "#import gzip\n",
    "#import shutil\n",
    "#with gzip.open('data/listing.csv.gz', 'rb') as f_in:\n",
    "#    with open('data/listing.csv', 'wb') as f_out:\n",
    "#        shutil.copyfileobj(f_in, f_out)"
   ]
  },
  {
   "cell_type": "markdown",
   "metadata": {},
   "source": [
    "First, we import the required libraries"
   ]
  },
  {
   "cell_type": "code",
   "execution_count": null,
   "metadata": {},
   "outputs": [],
   "source": [
    "import numpy as np\n",
    "import matplotlib.pyplot as plt\n",
    "import pandas as pd\n",
    "from sklearn.model_selection import train_test_split\n",
    "from sklearn.preprocessing import Imputer\n",
    "from sklearn.preprocessing import LabelEncoder, OneHotEncoder"
   ]
  },
  {
   "cell_type": "markdown",
   "metadata": {},
   "source": [
    "Then, we import the dataset and have a look at it."
   ]
  },
  {
   "cell_type": "code",
   "execution_count": null,
   "metadata": {},
   "outputs": [],
   "source": [
    "dataset = pd.read_csv('data/listings.csv')\n",
    "dataset.iloc[:5,:]"
   ]
  },
  {
   "cell_type": "markdown",
   "metadata": {},
   "source": [
    "There are a lot of variable.\n",
    "Let's keep only the relevant ones, as well as the dependent variable: the price per night!"
   ]
  },
  {
   "cell_type": "code",
   "execution_count": null,
   "metadata": {},
   "outputs": [],
   "source": [
    "dataset = dataset[['host_is_superhost','neighbourhood','zipcode','latitude','longitude','property_type',\n",
    "                   'room_type','accommodates','bathrooms','bedrooms','beds','bed_type','amenities','square_feet','price',\n",
    "                   'weekly_price','monthly_price','cleaning_fee','number_of_reviews','review_scores_rating',\n",
    "                   'review_scores_accuracy','review_scores_cleanliness','review_scores_checkin',\n",
    "                   'review_scores_communication','review_scores_location','review_scores_value']]\n",
    "dataset.iloc[:5,:]"
   ]
  },
  {
   "cell_type": "markdown",
   "metadata": {},
   "source": [
    "These variables are interesting, but we could do better.\n",
    "- Some of these are directly related (neighbourhood and zipcode directly depends of latitude and longitude / global review score depends on the other review scores).\n",
    "- Amenities are a bit difficult to treat for a first version of the algorithm.\n",
    "- Square feet field is rarely completed\n",
    "- Prices are treated as strings because they contain the '$' character.\n",
    "- Weekly and Monthly prices are not always available and we should for now keep these appart.\n",
    "- We are going to predict the total price which is composed of the price added the cleaning fee.\n",
    "- When there is no review, the other review variables are considered 'Nan'.\n",
    "- Sometimes, the other review variables are 'NaN' even though there are reviews."
   ]
  },
  {
   "cell_type": "code",
   "execution_count": null,
   "metadata": {},
   "outputs": [],
   "source": [
    "dataset = dataset.drop(columns=['neighbourhood','zipcode','amenities','square_feet','weekly_price','monthly_price','review_scores_rating'])\n",
    "dataset['price'] = dataset['price'].replace('[\\$,]', '', regex=True).astype(float) + dataset['cleaning_fee'].replace('[\\$,]', '', regex=True).astype(float)\n",
    "dataset = dataset.drop(columns=['cleaning_fee'])\n",
    "dataset = dataset[dataset['price'] != np.nan]\n",
    "#Replacing \"NaN\" values\n",
    "imputer = Imputer(missing_values = 'NaN', strategy = 'mean', axis = 0)\n",
    "imputer = imputer.fit(dataset[['latitude','longitude','accommodates','bathrooms','bedrooms','beds','number_of_reviews',\n",
    "                              'review_scores_accuracy','review_scores_cleanliness','review_scores_checkin',\n",
    "                              'review_scores_communication','review_scores_location', 'review_scores_value']])\n",
    "dataset[['latitude','longitude','accommodates','bathrooms','bedrooms','beds','number_of_reviews',\n",
    "                              'review_scores_accuracy','review_scores_cleanliness','review_scores_checkin',\n",
    "                              'review_scores_communication','review_scores_location', 'review_scores_value']] = imputer.transform(dataset[['latitude','longitude','accommodates','bathrooms','bedrooms','beds','number_of_reviews',\n",
    "                                  'review_scores_accuracy','review_scores_cleanliness','review_scores_checkin',\n",
    "                                  'review_scores_communication','review_scores_location', 'review_scores_value']])"
   ]
  },
  {
   "cell_type": "markdown",
   "metadata": {},
   "source": [
    "Looks better! Now let's split the dataset between dependent, independent variables and training and test sets.\n",
    "We should also encode the categorical data."
   ]
  },
  {
   "cell_type": "code",
   "execution_count": null,
   "metadata": {},
   "outputs": [],
   "source": [
    "X = dataset.drop(columns=['price']).values\n",
    "y = dataset['price'].values\n",
    "# Encoding the categorical data\n",
    "# TODO\n",
    "\n",
    "# Splitting the dataset into the Training set and Test set\n",
    "X_train, X_test, y_train, y_test = train_test_split(X, y, test_size = 0.2)"
   ]
  }
 ],
 "metadata": {
  "kernelspec": {
   "display_name": "Python 2",
   "language": "python",
   "name": "python2"
  },
  "language_info": {
   "codemirror_mode": {
    "name": "ipython",
    "version": 2
   },
   "file_extension": ".py",
   "mimetype": "text/x-python",
   "name": "python",
   "nbconvert_exporter": "python",
   "pygments_lexer": "ipython2",
   "version": "2.7.15"
  }
 },
 "nbformat": 4,
 "nbformat_minor": 2
}
